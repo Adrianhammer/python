{
 "cells": [
  {
   "cell_type": "markdown",
   "id": "52e89a7c",
   "metadata": {},
   "source": [
    "# Modules (also called libraries)"
   ]
  },
  {
   "cell_type": "markdown",
   "id": "4a22796e",
   "metadata": {},
   "source": [
    "In python, we use functions to organize our code. The function is made so we can use it for a specific purpose without re-writing the code over and over. This also facilitates error checking. Think of a program which takes some input, does calculations, and presents the results in tables and graphs. The code for these three steps can be organized into three different functions. Now, three different programmers can work on the project simulaneously and join together the product in the end, after error checking their functions."
   ]
  },
  {
   "cell_type": "markdown",
   "id": "cd3e148f",
   "metadata": {},
   "source": [
    "Although a function can be considered a module in its own right, a module is more often a collection of functions, all of which work together to solve some common task. The code for these collections of functions are saved as .py files."
   ]
  },
  {
   "cell_type": "markdown",
   "id": "21396eba",
   "metadata": {},
   "source": [
    "One such example is the *math* module. It contains a collection of mathematical functions, for example exp(), or log()\n",
    "See the documentation here: https://docs.python.org/3/library/math.html"
   ]
  },
  {
   "cell_type": "markdown",
   "id": "0373151f",
   "metadata": {},
   "source": [
    "But, you have to import the module before you can use the functions within it.\n",
    "You can import functions from a module using either of the four methods mentioned below:\n",
    "\n",
    "- import *modulename* (example: import math)\n",
    "- import *modulename* as *something_short* (example: import math as m)\n",
    "- from *modulename* import *function_name* (example: from math import exp)\n",
    "- from *modulename* import * (example: from math import *)"
   ]
  },
  {
   "cell_type": "markdown",
   "id": "c36de0bd",
   "metadata": {},
   "source": [
    "If we try to use a function without importing:"
   ]
  },
  {
   "cell_type": "code",
   "execution_count": null,
   "id": "ec03e102",
   "metadata": {},
   "outputs": [],
   "source": [
    "exp(4)"
   ]
  },
  {
   "cell_type": "markdown",
   "id": "a3de75d2",
   "metadata": {},
   "source": [
    "We import the module and then call the function:"
   ]
  },
  {
   "cell_type": "code",
   "execution_count": null,
   "id": "53075980",
   "metadata": {},
   "outputs": [],
   "source": [
    "import math"
   ]
  },
  {
   "cell_type": "markdown",
   "id": "acf1740d",
   "metadata": {},
   "source": [
    "When we import the module like this, we have to write the module name plus the function name to use the function:"
   ]
  },
  {
   "cell_type": "code",
   "execution_count": null,
   "id": "5ad4e217",
   "metadata": {},
   "outputs": [],
   "source": [
    "math.exp(4)"
   ]
  },
  {
   "cell_type": "markdown",
   "id": "05f962b8",
   "metadata": {},
   "source": [
    "We can also give the imported module an alias to make the code shorter:"
   ]
  },
  {
   "cell_type": "code",
   "execution_count": null,
   "id": "24ba352e",
   "metadata": {},
   "outputs": [],
   "source": [
    "import math as m"
   ]
  },
  {
   "cell_type": "markdown",
   "id": "c547b5fa",
   "metadata": {},
   "source": [
    "Now we still have to write the alias before the function name:"
   ]
  },
  {
   "cell_type": "code",
   "execution_count": null,
   "id": "46a1483f",
   "metadata": {},
   "outputs": [],
   "source": [
    "m.exp(4)"
   ]
  },
  {
   "cell_type": "markdown",
   "id": "04c07b07",
   "metadata": {},
   "source": [
    "Or, we can import only parts of the module:"
   ]
  },
  {
   "cell_type": "code",
   "execution_count": null,
   "id": "f29e3088",
   "metadata": {},
   "outputs": [],
   "source": [
    "from math import log"
   ]
  },
  {
   "cell_type": "markdown",
   "id": "7f2abe00",
   "metadata": {},
   "source": [
    "This allows us to write the function name only:"
   ]
  },
  {
   "cell_type": "code",
   "execution_count": null,
   "id": "eaff6281",
   "metadata": {},
   "outputs": [],
   "source": [
    "log(4)"
   ]
  },
  {
   "cell_type": "markdown",
   "id": "2d259afe",
   "metadata": {},
   "source": [
    "We can also import all functions from the module (DANGEROUS!!!):"
   ]
  },
  {
   "cell_type": "code",
   "execution_count": null,
   "id": "23e1b9d6",
   "metadata": {},
   "outputs": [],
   "source": [
    "from math import *"
   ]
  },
  {
   "cell_type": "markdown",
   "id": "e84a7e3f",
   "metadata": {},
   "source": [
    "Now we can use *any* function from the module, without specifying the module name:"
   ]
  },
  {
   "cell_type": "code",
   "execution_count": null,
   "id": "d99ce140",
   "metadata": {},
   "outputs": [],
   "source": [
    "log(4)"
   ]
  },
  {
   "cell_type": "markdown",
   "id": "8d2e2a13",
   "metadata": {},
   "source": [
    "Why is the above code so dangerous? It crowds the **namespace**. Modules often contain a great number of function definitions. Different functions from different modules sometimes have the same name. This is why we often import and give alias to imported modules to be certain of which function we actually run."
   ]
  },
  {
   "cell_type": "markdown",
   "id": "7bca92fe",
   "metadata": {},
   "source": [
    "So, to recap, there are 4 ways to import modules. Which import method you choose will decide how you must call the function from the module. For example the *exp* function from the *math* module:\n",
    "\n",
    "import math\n",
    "- math.exp(4)\n",
    "\n",
    "import math as m\n",
    "- m.exp(4)\n",
    "\n",
    "from math import exp\n",
    "- exp(4)\n",
    "\n",
    "from math import *\n",
    "- exp(4)"
   ]
  },
  {
   "cell_type": "markdown",
   "id": "87cb2fd2",
   "metadata": {},
   "source": [
    "The method we mostly use is to give the imported module an alias, like \"import math as m\""
   ]
  },
  {
   "cell_type": "markdown",
   "id": "ef0ceed8",
   "metadata": {},
   "source": [
    "But, if several functions have the same name, which will be executed when you call the function name?"
   ]
  },
  {
   "cell_type": "code",
   "execution_count": null,
   "id": "4823ee4f",
   "metadata": {},
   "outputs": [],
   "source": [
    "from math import factorial\n",
    "print(factorial(5))\n"
   ]
  },
  {
   "cell_type": "markdown",
   "id": "618cc393",
   "metadata": {},
   "source": [
    "Let us define our own function called factorial:"
   ]
  },
  {
   "cell_type": "code",
   "execution_count": null,
   "id": "6593fb5f",
   "metadata": {},
   "outputs": [],
   "source": [
    "def factorial():\n",
    "    print('my_factorial')"
   ]
  },
  {
   "cell_type": "markdown",
   "id": "5cd52b0e",
   "metadata": {},
   "source": [
    "This function does not take any arguments, as opposed to the factorial function in the math module."
   ]
  },
  {
   "cell_type": "code",
   "execution_count": null,
   "id": "c3eeecc9",
   "metadata": {},
   "outputs": [],
   "source": [
    "print(factorial(4))"
   ]
  },
  {
   "cell_type": "markdown",
   "id": "e05044cf",
   "metadata": {},
   "source": [
    "We see that Python is trying to use the function which was the last to be imported or defined."
   ]
  },
  {
   "cell_type": "markdown",
   "id": "827278cf",
   "metadata": {},
   "source": [
    "We can also re-name functions when importing them"
   ]
  },
  {
   "cell_type": "code",
   "execution_count": null,
   "id": "76004dfe",
   "metadata": {},
   "outputs": [],
   "source": [
    "from math import factorial as fact"
   ]
  },
  {
   "cell_type": "code",
   "execution_count": null,
   "id": "1b6f0cb5",
   "metadata": {},
   "outputs": [],
   "source": [
    "factorial()"
   ]
  },
  {
   "cell_type": "code",
   "execution_count": null,
   "id": "5337a592",
   "metadata": {},
   "outputs": [],
   "source": [
    "fact(6)"
   ]
  },
  {
   "cell_type": "code",
   "execution_count": null,
   "id": "282186d2",
   "metadata": {},
   "outputs": [],
   "source": [
    "def factorial(n):\n",
    "    print('my_new_factorial')"
   ]
  },
  {
   "cell_type": "code",
   "execution_count": null,
   "id": "fbb54249",
   "metadata": {},
   "outputs": [],
   "source": [
    "factorial(5)"
   ]
  },
  {
   "cell_type": "markdown",
   "id": "44be6acd",
   "metadata": {},
   "source": [
    "We can also make our own modules by saving the file with the function definitions as a .py file:"
   ]
  },
  {
   "cell_type": "code",
   "execution_count": null,
   "id": "b0f3b1e2",
   "metadata": {},
   "outputs": [],
   "source": [
    "# Here is the function we would like to put in a module called \"my_module\":\n",
    "'''\n",
    "def display_greeting():\n",
    "    print('I display a greeting')\n",
    "'''"
   ]
  },
  {
   "cell_type": "code",
   "execution_count": null,
   "id": "62228f32",
   "metadata": {},
   "outputs": [],
   "source": [
    "def display_greeting():\n",
    "    print('I display a greeting')"
   ]
  },
  {
   "cell_type": "code",
   "execution_count": null,
   "id": "d520ff11",
   "metadata": {},
   "outputs": [],
   "source": [
    "display_greeting()"
   ]
  },
  {
   "cell_type": "code",
   "execution_count": null,
   "id": "fa9c906b",
   "metadata": {},
   "outputs": [],
   "source": [
    "# my_module is a file called my_module.py, which is found in the same folder as our notebook.\n",
    "import my_module as mm"
   ]
  },
  {
   "cell_type": "code",
   "execution_count": null,
   "id": "deecb9a1",
   "metadata": {},
   "outputs": [],
   "source": [
    "# run the display_greeting function which is stored in the my_module file.\n",
    "mm.display_greeting()"
   ]
  },
  {
   "cell_type": "markdown",
   "id": "e33e92ee",
   "metadata": {},
   "source": [
    "Modules which we will work with in this course:\n",
    "- numpy\n",
    "- scipy\n",
    "- sympy\n",
    "- matplotlib\n",
    "- random\n",
    "- quantecon\n",
    "- numba\n",
    "- pandas\n",
    "- requests\n",
    "- pandas_datareader\n",
    "- datetime\n",
    "- yfinance\n",
    "- itertools\n",
    "- csv\n",
    "- math\n",
    "- math2"
   ]
  },
  {
   "cell_type": "markdown",
   "id": "4db2004a",
   "metadata": {},
   "source": [
    "Other interesting modules:\n",
    "- time\n",
    "- calendar\n",
    "- PyGame\n",
    "- xlwings\n",
    "- scikitlearn\n",
    "- tensorflow"
   ]
  },
  {
   "cell_type": "code",
   "execution_count": null,
   "id": "d186c106",
   "metadata": {},
   "outputs": [],
   "source": [
    "from random import uniform"
   ]
  },
  {
   "cell_type": "code",
   "execution_count": null,
   "id": "162f3faa",
   "metadata": {},
   "outputs": [],
   "source": [
    "uniform(0,10)"
   ]
  },
  {
   "cell_type": "markdown",
   "id": "db1983a6",
   "metadata": {},
   "source": [
    "Modules can have \"sub folders\". Here, `scipy` is the bottom layer, `stats` is the second layer and `norm` is the object in the third layer, which itself has a function called cdf (cumulative density function):"
   ]
  },
  {
   "cell_type": "code",
   "execution_count": null,
   "id": "fe59e801",
   "metadata": {},
   "outputs": [],
   "source": [
    "from scipy.stats import norm"
   ]
  },
  {
   "cell_type": "code",
   "execution_count": null,
   "id": "891d6772",
   "metadata": {},
   "outputs": [],
   "source": [
    "norm.cdf(1.96)"
   ]
  },
  {
   "cell_type": "code",
   "execution_count": null,
   "id": "92343535",
   "metadata": {},
   "outputs": [],
   "source": [
    "import scipy"
   ]
  },
  {
   "cell_type": "code",
   "execution_count": null,
   "id": "1e321093",
   "metadata": {},
   "outputs": [],
   "source": [
    "scipy.stats.norm.cdf(0)"
   ]
  },
  {
   "cell_type": "markdown",
   "id": "91692ff2",
   "metadata": {},
   "source": [
    "If you make the code which should be placed into the module in Jupyter Notebook, you can export the code to a .py file by selecting\n",
    "\n",
    "File $>$ Download as $>$ Python (.py)\n",
    "\n",
    "Now the code, with comments, have been saved as a .py file, which can be imported by the main file.\n",
    "\n",
    "For starters, it is easiest to save the module in the same folder as the file you will call the module from."
   ]
  },
  {
   "cell_type": "code",
   "execution_count": null,
   "id": "499f0325",
   "metadata": {},
   "outputs": [],
   "source": []
  }
 ],
 "metadata": {
  "kernelspec": {
   "display_name": "Python 3 (ipykernel)",
   "language": "python",
   "name": "python3"
  },
  "language_info": {
   "codemirror_mode": {
    "name": "ipython",
    "version": 3
   },
   "file_extension": ".py",
   "mimetype": "text/x-python",
   "name": "python",
   "nbconvert_exporter": "python",
   "pygments_lexer": "ipython3",
   "version": "3.9.13"
  }
 },
 "nbformat": 4,
 "nbformat_minor": 5
}
