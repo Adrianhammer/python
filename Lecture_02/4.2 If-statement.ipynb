{
 "cells": [
  {
   "cell_type": "markdown",
   "metadata": {},
   "source": [
    "## Selection control:\n",
    "\n",
    "Select which part of the program to execute using if-statements."
   ]
  },
  {
   "cell_type": "markdown",
   "metadata": {},
   "source": [
    "### If-statement:\n",
    "\n",
    "If-statements consist of a header starting with the `if` keyword, a Boolean condition and a colon, and then an indentend block of code. The block of code will be executed if the Boolean condition is `True`."
   ]
  },
  {
   "cell_type": "markdown",
   "metadata": {},
   "source": [
    "Our everyday example can be the expression \"It is raining\". This expression is either True or False.\n",
    "\n",
    "The code connected to this expression could be \"Bring an umbrella\". \n",
    "\n",
    "If \"It is raining\" = True, then \"Bring an umbrella\"."
   ]
  },
  {
   "cell_type": "code",
   "execution_count": null,
   "metadata": {},
   "outputs": [],
   "source": [
    "grade = 70"
   ]
  },
  {
   "cell_type": "code",
   "execution_count": null,
   "metadata": {},
   "outputs": [],
   "source": [
    "if grade == 100:\n",
    "    print('Perfect score!')"
   ]
  },
  {
   "cell_type": "markdown",
   "metadata": {},
   "source": [
    "(to check for equality, you have to use double equal sign: ==)\n",
    "\n",
    "(if you want to put a value into a variable, then you have to use the = sign) "
   ]
  },
  {
   "cell_type": "markdown",
   "metadata": {},
   "source": [
    "Super important: when you write an if-statement, the code to be run should be <b>indented</b>. This happens automatically if you hit the enter key after entering the \":\" sign. Notice in the code above that the code \"print('Perfect score!') is away from the left margin. This means that Python knows which lines of code to run. The lines of code can be several as in this case:"
   ]
  },
  {
   "cell_type": "code",
   "execution_count": null,
   "metadata": {},
   "outputs": [],
   "source": [
    "grade = 70\n",
    "\n",
    "if grade == 100:\n",
    "    print('Perfect score!')\n",
    "    print('Wooooohoooooo!!!!!')"
   ]
  },
  {
   "cell_type": "markdown",
   "metadata": {},
   "source": [
    "An `else` statement can be added after an `if` statement to add alternative instructions for when the if-condition is not `True`."
   ]
  },
  {
   "cell_type": "code",
   "execution_count": null,
   "metadata": {},
   "outputs": [],
   "source": [
    "if grade == 100:\n",
    "    print('Perfect score')\n",
    "else:\n",
    "    print('Not perfect score.')"
   ]
  },
  {
   "cell_type": "markdown",
   "metadata": {},
   "source": [
    "If you do not know what code to execute but want to create the if-sentence structure, you can use the `pass` statement "
   ]
  },
  {
   "cell_type": "code",
   "execution_count": null,
   "metadata": {},
   "outputs": [],
   "source": [
    "if grade > 70:\n",
    "    pass\n",
    "else:\n",
    "    pass"
   ]
  },
  {
   "cell_type": "markdown",
   "metadata": {},
   "source": [
    "### Multiple nested if-statements:\n",
    "\n",
    "When we want to select on more than one set of if-else conditions."
   ]
  },
  {
   "cell_type": "markdown",
   "metadata": {},
   "source": [
    "We can nest together as many if-else conditions as we want as long as they are all mutually exclusive."
   ]
  },
  {
   "cell_type": "code",
   "execution_count": null,
   "metadata": {},
   "outputs": [],
   "source": [
    "grade = 80\n",
    "\n",
    "if grade >= 90:\n",
    "    print('Grade: A')\n",
    "else:\n",
    "    if grade >= 80:\n",
    "        print('Grade: B')\n",
    "    else:\n",
    "        if grade >= 70:\n",
    "            print('Grade: C')\n",
    "        else:\n",
    "            if grade >= 60:\n",
    "                print('Grade: D')\n",
    "            else:\n",
    "                print('Grade: F')"
   ]
  },
  {
   "cell_type": "markdown",
   "metadata": {},
   "source": [
    "### Single if-statement + elif-statements:\n",
    "\n",
    "elif stands for \"else if\"\n",
    "\n",
    "A better alternative to multiple nested if-statements if to instead combine the initial if-statement with one or several `elif` statements."
   ]
  },
  {
   "cell_type": "markdown",
   "metadata": {},
   "source": [
    "The program will terminate after the first if-statement that is evaluated to be `True`. The program should end with a catch-all `else`-statement."
   ]
  },
  {
   "cell_type": "code",
   "execution_count": null,
   "metadata": {},
   "outputs": [],
   "source": [
    "if grade >= 90:\n",
    "    print('Grade: A')\n",
    "elif grade >= 80:\n",
    "    print('Grade: B')\n",
    "elif grade >= 70:\n",
    "    print('Grade: C')\n",
    "elif grade >= 60:\n",
    "    print('Grade: D')\n",
    "else:\n",
    "    print('Grade: F')"
   ]
  }
 ],
 "metadata": {
  "kernelspec": {
   "display_name": "Python 3 (ipykernel)",
   "language": "python",
   "name": "python3"
  },
  "language_info": {
   "codemirror_mode": {
    "name": "ipython",
    "version": 3
   },
   "file_extension": ".py",
   "mimetype": "text/x-python",
   "name": "python",
   "nbconvert_exporter": "python",
   "pygments_lexer": "ipython3",
   "version": "3.9.13"
  }
 },
 "nbformat": 4,
 "nbformat_minor": 4
}
