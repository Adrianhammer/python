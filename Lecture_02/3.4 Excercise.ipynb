{
 "cells": [
  {
   "cell_type": "markdown",
   "metadata": {},
   "source": [
    "<div class = \"alert alert-info\">\n",
    "<h2> Group exercise </h2>\n",
    "<p> Write a program where you can insert a temperature and convert it from Celsius to Farenheit.\n",
    "    \n",
    "<p> You can look at the Temperature Conversion program in section 2.4.6 in Diebold (page 66), which converts from Fahrenheit to Celsius. The formula for the conversion from Celsius to Farenheit is: Farenheit = (Celsius * 9/5) + 32.\n",
    "    \n",
    "<p> The code for the original program has been pasted below for your use.\n",
    " \n",
    "</div>"
   ]
  },
  {
   "cell_type": "code",
   "execution_count": null,
   "metadata": {},
   "outputs": [],
   "source": [
    "print('*'*46)\n",
    "\n",
    "print('\\nWELCOME TO THE TEMPERATURE CONVERSION PROGRAM!\\n')\n",
    "print('\\nENTER YOUR TEMPERATURE IN FARENHEIT AND RECEIVE CELCIUS!\\n')\n",
    "\n",
    "print('*'*46)\n",
    "\n",
    "# Ask user for input\n",
    "print('\\nThis program converts temperature from Fahrenheit to Celsius.')\n",
    "    \n",
    "fahren = float(input('Enter temperature to convert: '))\n",
    "\n",
    "# Calculate temperature conversion and display the result\n",
    "celsius = (fahren-32)*5/9\n",
    "    \n",
    "print(f'{fahren:.1f} degree(s) Fahrenheit equals {celsius:.1f} degree(s) Celsius.')"
   ]
  },
  {
   "cell_type": "markdown",
   "metadata": {},
   "source": [
    "Enter your solution for converting from Celcius to Farenheit below:"
   ]
  },
  {
   "cell_type": "code",
   "execution_count": null,
   "metadata": {},
   "outputs": [],
   "source": []
  }
 ],
 "metadata": {
  "kernelspec": {
   "display_name": "Python 3 (ipykernel)",
   "language": "python",
   "name": "python3"
  },
  "language_info": {
   "codemirror_mode": {
    "name": "ipython",
    "version": 3
   },
   "file_extension": ".py",
   "mimetype": "text/x-python",
   "name": "python",
   "nbconvert_exporter": "python",
   "pygments_lexer": "ipython3",
   "version": "3.9.13"
  }
 },
 "nbformat": 4,
 "nbformat_minor": 4
}
