{
 "cells": [
  {
   "cell_type": "markdown",
   "id": "4a6930c5",
   "metadata": {},
   "source": [
    "Printed lines can be continued on the next line by use of\n",
    "\n",
    "','"
   ]
  },
  {
   "cell_type": "code",
   "execution_count": 1,
   "id": "6070e9fc",
   "metadata": {},
   "outputs": [
    {
     "name": "stdout",
     "output_type": "stream",
     "text": [
      "this is a continued line in the code\n"
     ]
    }
   ],
   "source": [
    "print('this is a continued line in the code')"
   ]
  },
  {
   "cell_type": "code",
   "execution_count": 2,
   "id": "fa538f69",
   "metadata": {},
   "outputs": [
    {
     "name": "stdout",
     "output_type": "stream",
     "text": [
      "this is a continued line in the code\n"
     ]
    }
   ],
   "source": [
    "print('this is a continued',\n",
    "      'line in the code')"
   ]
  },
  {
   "cell_type": "markdown",
   "id": "4d98461a",
   "metadata": {},
   "source": [
    "Expressions can also be continued on the next line of code by use of\n",
    "\n",
    "\\\\"
   ]
  },
  {
   "cell_type": "code",
   "execution_count": 3,
   "id": "244c314d",
   "metadata": {},
   "outputs": [
    {
     "name": "stdout",
     "output_type": "stream",
     "text": [
      "11\n"
     ]
    }
   ],
   "source": [
    "number1 = 3 + 4 + 4\n",
    "print(number1)"
   ]
  },
  {
   "cell_type": "code",
   "execution_count": 6,
   "id": "23f94cb3",
   "metadata": {},
   "outputs": [
    {
     "name": "stdout",
     "output_type": "stream",
     "text": [
      "11\n"
     ]
    }
   ],
   "source": [
    "number1 = 3 + 4 \\\n",
    "    + 4\n",
    "print(number1)"
   ]
  },
  {
   "cell_type": "code",
   "execution_count": null,
   "id": "f075d386",
   "metadata": {},
   "outputs": [],
   "source": []
  }
 ],
 "metadata": {
  "kernelspec": {
   "display_name": "Python 3 (ipykernel)",
   "language": "python",
   "name": "python3"
  },
  "language_info": {
   "codemirror_mode": {
    "name": "ipython",
    "version": 3
   },
   "file_extension": ".py",
   "mimetype": "text/x-python",
   "name": "python",
   "nbconvert_exporter": "python",
   "pygments_lexer": "ipython3",
   "version": "3.9.13"
  }
 },
 "nbformat": 4,
 "nbformat_minor": 5
}
