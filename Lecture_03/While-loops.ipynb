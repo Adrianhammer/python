{
 "cells": [
  {
   "cell_type": "markdown",
   "metadata": {},
   "source": [
    "## Iterative control:\n",
    "\n",
    "Repeat a code block until some Boolean condition is evaluated to no longer be `True` using a `while` statement.  "
   ]
  },
  {
   "cell_type": "markdown",
   "metadata": {},
   "source": [
    "### While-statements:\n",
    "\n",
    "While-statements consists of a header starting with the `while` keyword, a Boolean condition and a colon, and then an indentend block of code. The block of code will be executed repeatedly until the Boolean condition is no longer `True`."
   ]
  },
  {
   "cell_type": "code",
   "execution_count": null,
   "metadata": {},
   "outputs": [],
   "source": [
    "N = 3\n",
    "total = 0\n",
    "current = 1\n",
    "\n",
    "while current <= N:\n",
    "    print(current)\n",
    "    current = current + 1"
   ]
  },
  {
   "cell_type": "markdown",
   "metadata": {},
   "source": [
    "The number of iterations of a while loop depends on the initial conditions."
   ]
  },
  {
   "cell_type": "code",
   "execution_count": null,
   "metadata": {},
   "outputs": [],
   "source": [
    "N = 10\n",
    "total = 0\n",
    "current = 1\n",
    "\n",
    "while current <= N:\n",
    "    total = total + current\n",
    "    print(current)\n",
    "    current = current + 1\n",
    "\n",
    "print(f'\\nSum: {total}')"
   ]
  },
  {
   "cell_type": "markdown",
   "metadata": {},
   "source": [
    "Notice that it is possible that the Boolean condition is `False` in the first iteration. The loop will terminate before the first iteration."
   ]
  },
  {
   "cell_type": "code",
   "execution_count": null,
   "metadata": {},
   "outputs": [],
   "source": [
    "N = 1\n",
    "total = 0\n",
    "current = 2\n",
    "\n",
    "while 2 <= 1:\n",
    "    total = total + current\n",
    "    print(current)\n",
    "    current = current + 1\n",
    "\n",
    "print(f'Sum: {total}')"
   ]
  },
  {
   "cell_type": "markdown",
   "metadata": {},
   "source": [
    "#### Three types of iterative loops (while-loops):"
   ]
  },
  {
   "cell_type": "markdown",
   "metadata": {},
   "source": [
    "#### 1. Infinite loops:\n",
    "\n",
    "A while-loop that can never terminate (to terminate the infinite loop, select the following in the menu: Kernel -> Interrupt), or just press the `i` key twice.\n",
    "\n",
    "In Spyder, you can press Ctrl + C"
   ]
  },
  {
   "cell_type": "code",
   "execution_count": null,
   "metadata": {},
   "outputs": [],
   "source": [
    "N = 3\n",
    "total = 0\n",
    "current = 1\n",
    "\n",
    "while current <= N:\n",
    "    total = total + current\n",
    "    #current = current + 1\n",
    "\n",
    "print(total)"
   ]
  },
  {
   "cell_type": "markdown",
   "metadata": {},
   "source": [
    "#### 2. Definite loops: \n",
    "\n",
    "Is a while-loop where we can determine the number of iterations before the loop is executed."
   ]
  },
  {
   "cell_type": "markdown",
   "metadata": {},
   "source": [
    "The number of iterations depend on the initial values."
   ]
  },
  {
   "cell_type": "code",
   "execution_count": null,
   "metadata": {},
   "outputs": [],
   "source": [
    "N = 1\n",
    "current = 1\n",
    "\n",
    "while current <= N:\n",
    "    print(current)\n",
    "    current = current + 1\n"
   ]
  },
  {
   "cell_type": "markdown",
   "metadata": {},
   "source": [
    "#### 3. Indefinite loops: \n",
    "\n",
    "A while loop that that can terminate, but we cannot determine the number of iterations before the loop is executed."
   ]
  },
  {
   "cell_type": "markdown",
   "metadata": {},
   "source": [
    "Indefinite loops are often used to check that user-supplied inputs are valid."
   ]
  },
  {
   "cell_type": "code",
   "execution_count": null,
   "metadata": {},
   "outputs": [],
   "source": [
    "print(f'You can choose between A or B.')\n",
    "choice = input('Make your choice: ')\n",
    "\n",
    "while choice not in ('A', 'B'):\n",
    "    print(f'Invalid input. You can only choose A or B.')\n",
    "    choice = input('Make your choice: ')\n",
    "\n",
    "print(f'\\nYou chose {choice}')"
   ]
  },
  {
   "cell_type": "markdown",
   "metadata": {},
   "source": [
    "#### Boolean flag:\n",
    "\n",
    "Instead of using a Boolean condition in the while-statement, we can use a `Boolean flag`."
   ]
  },
  {
   "cell_type": "markdown",
   "metadata": {},
   "source": [
    "A Boolean flag is simply a Boolean condition that is placed in a variable. These are used to include or omit parts of the code."
   ]
  },
  {
   "cell_type": "code",
   "execution_count": null,
   "metadata": {},
   "outputs": [],
   "source": [
    "valid_input = False # initialize the Boolean flag\n",
    "\n",
    "# Ask the user for input\n",
    "print(f'You can choose between A or B.')\n",
    "choice = input('Make your choice: ')\n",
    "\n",
    "# Start while loop only if Boolean flag is not True\n",
    "while not valid_input:\n",
    "    \n",
    "    # If input is valid, change flag to True\n",
    "    if choice in ('A', 'B'):\n",
    "        valid_input = True\n",
    "        \n",
    "    # While Boolean flag is False, keep asking for input\n",
    "    else:\n",
    "        print(f'Invalid input. You can only choose A or B.')\n",
    "        choice = input(f'Make your choice: ')\n",
    "        \n",
    "print(f'You chose {choice}')"
   ]
  },
  {
   "cell_type": "code",
   "execution_count": null,
   "metadata": {},
   "outputs": [],
   "source": []
  }
 ],
 "metadata": {
  "kernelspec": {
   "display_name": "Python 3 (ipykernel)",
   "language": "python",
   "name": "python3"
  },
  "language_info": {
   "codemirror_mode": {
    "name": "ipython",
    "version": 3
   },
   "file_extension": ".py",
   "mimetype": "text/x-python",
   "name": "python",
   "nbconvert_exporter": "python",
   "pygments_lexer": "ipython3",
   "version": "3.9.13"
  }
 },
 "nbformat": 4,
 "nbformat_minor": 4
}
