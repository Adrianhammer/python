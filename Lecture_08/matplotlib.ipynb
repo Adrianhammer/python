{
 "cells": [
  {
   "cell_type": "markdown",
   "id": "4644e822",
   "metadata": {},
   "source": [
    "# matplotlib"
   ]
  },
  {
   "cell_type": "markdown",
   "id": "b231a831",
   "metadata": {},
   "source": [
    "• The Matplotlib gallery provides many examples which you can use as a starting point when working on your own projects:\n",
    "- https://matplotlib.org/stable/gallery/index.html\n",
    "\n",
    "• A nice Matplotlib tutorial by Nicolas Rougier, Mike Muller and Gael Varoquaux:\n",
    "- http://scipy-lectures.org/intro/matplotlib/index.html"
   ]
  },
  {
   "cell_type": "code",
   "execution_count": null,
   "id": "1955fcdb",
   "metadata": {},
   "outputs": [],
   "source": [
    "import matplotlib.pyplot as plt\n",
    "import numpy as np"
   ]
  },
  {
   "cell_type": "code",
   "execution_count": null,
   "id": "5897c962",
   "metadata": {},
   "outputs": [],
   "source": [
    "x = np.linspace(0, 10, 50)\n",
    "y = np.sin(x)\n",
    "z = np.cos(x)"
   ]
  },
  {
   "cell_type": "markdown",
   "id": "7d1a935f",
   "metadata": {},
   "source": [
    "The easiest way to plot something quickly for when you just need to extract some information but do not need to publish your figure:"
   ]
  },
  {
   "cell_type": "code",
   "execution_count": null,
   "id": "d8376bee",
   "metadata": {},
   "outputs": [],
   "source": [
    "plt.plot(x,y)"
   ]
  },
  {
   "cell_type": "markdown",
   "id": "b888b102",
   "metadata": {},
   "source": [
    "But it is better in the long run to make the figure and axis objects separately. This will save us some typing later:"
   ]
  },
  {
   "cell_type": "code",
   "execution_count": null,
   "id": "b38cbf3e",
   "metadata": {},
   "outputs": [],
   "source": [
    "fig, ax = plt.subplots()\n",
    "ax.plot(x, y)\n",
    "plt.show()"
   ]
  },
  {
   "cell_type": "markdown",
   "id": "889ea664",
   "metadata": {},
   "source": [
    "Can add a color and linestyle"
   ]
  },
  {
   "cell_type": "code",
   "execution_count": null,
   "id": "3af7dc0a",
   "metadata": {},
   "outputs": [],
   "source": [
    "fig, ax = plt.subplots()\n",
    "ax.plot(x, y, color='g')\n",
    "plt.show()"
   ]
  },
  {
   "cell_type": "markdown",
   "id": "229490c0",
   "metadata": {},
   "source": [
    "More readable passing of arguments for color, marker and linestyle:"
   ]
  },
  {
   "cell_type": "code",
   "execution_count": null,
   "id": "a76fd0bc",
   "metadata": {
    "scrolled": true
   },
   "outputs": [],
   "source": [
    "fig, ax = plt.subplots()\n",
    "ax.plot(x, y, color='r', linestyle='-', marker='^')\n",
    "plt.show()"
   ]
  },
  {
   "cell_type": "markdown",
   "id": "2f5e65f9",
   "metadata": {},
   "source": [
    "See the documentation for more information on line formatting:\n",
    "https://matplotlib.org/stable/api/_as_gen/matplotlib.pyplot.plot.html"
   ]
  },
  {
   "cell_type": "markdown",
   "id": "c1c70258",
   "metadata": {},
   "source": [
    "Color can also be passed in as a hexadecimal value which enables you to use a more varied color palette:"
   ]
  },
  {
   "cell_type": "code",
   "execution_count": null,
   "id": "432b2465",
   "metadata": {},
   "outputs": [],
   "source": [
    "fig, ax = plt.subplots()\n",
    "ax.plot(x, y, color='#7a21bf', linestyle='-', marker='o')\n",
    "plt.show()"
   ]
  },
  {
   "cell_type": "markdown",
   "id": "147343cf",
   "metadata": {},
   "source": [
    "A fast way to define color and linestyle:"
   ]
  },
  {
   "cell_type": "code",
   "execution_count": null,
   "id": "aaff3a39",
   "metadata": {},
   "outputs": [],
   "source": [
    "fig, ax = plt.subplots()\n",
    "ax.plot(x, y, 'b--')\n",
    "plt.show()"
   ]
  },
  {
   "cell_type": "markdown",
   "id": "241fbd2d",
   "metadata": {},
   "source": [
    "Here we define the size of the figure:"
   ]
  },
  {
   "cell_type": "code",
   "execution_count": null,
   "id": "3dc5f23c",
   "metadata": {},
   "outputs": [],
   "source": [
    "fig, ax = plt.subplots(figsize = (3,2))\n",
    "ax.plot(x, y, 'b-')\n",
    "plt.show()"
   ]
  },
  {
   "cell_type": "markdown",
   "id": "1ea331f8",
   "metadata": {},
   "source": [
    "We can change the linewidth:"
   ]
  },
  {
   "cell_type": "code",
   "execution_count": null,
   "id": "a5f5522a",
   "metadata": {},
   "outputs": [],
   "source": [
    "fig, ax = plt.subplots()\n",
    "ax.plot(x, y, 'b-', linewidth = 4)\n",
    "plt.show()"
   ]
  },
  {
   "cell_type": "markdown",
   "id": "ef3ab6f2",
   "metadata": {},
   "source": [
    "Add a label to our line plot:"
   ]
  },
  {
   "cell_type": "code",
   "execution_count": null,
   "id": "7c3080ec",
   "metadata": {},
   "outputs": [],
   "source": [
    "fig, ax = plt.subplots()\n",
    "ax.plot(x, y, 'b-', linewidth = 2, label = 'sin(x)')\n",
    "ax.legend(loc = 'upper center')\n",
    "plt.show()"
   ]
  },
  {
   "cell_type": "markdown",
   "id": "c6b7ae00",
   "metadata": {},
   "source": [
    "Change the axis:"
   ]
  },
  {
   "cell_type": "code",
   "execution_count": null,
   "id": "ef39e7c9",
   "metadata": {},
   "outputs": [],
   "source": [
    "fig, ax = plt.subplots()\n",
    "ax.plot(x, y, 'b-', linewidth = 2, label = 'sin(x)')\n",
    "ax.set_yticks(np.linspace(-1, 1, 3)) # or [-1,0,1]\n",
    "ax.legend(loc = 'lower left')\n",
    "plt.show()"
   ]
  },
  {
   "cell_type": "markdown",
   "id": "2f9e4fb1",
   "metadata": {},
   "source": [
    "Add labels to the x-axis and y-axis, and a title above the figure:"
   ]
  },
  {
   "cell_type": "code",
   "execution_count": null,
   "id": "7426d1a4",
   "metadata": {},
   "outputs": [],
   "source": [
    "fig, ax = plt.subplots()\n",
    "ax.plot(x, y, 'b-', linewidth = 2, label = 'sin(x)')\n",
    "ax.legend(loc = 'lower left')\n",
    "plt.ylabel('y-value')\n",
    "plt.xlabel('x-value')\n",
    "plt.title('Sine and cosine functions')\n",
    "plt.show()"
   ]
  },
  {
   "cell_type": "markdown",
   "id": "9c6bd29b",
   "metadata": {},
   "source": [
    "Plot two series in one figure:"
   ]
  },
  {
   "cell_type": "code",
   "execution_count": null,
   "id": "97054b97",
   "metadata": {},
   "outputs": [],
   "source": [
    "fig, ax = plt.subplots()\n",
    "ax.plot(x, y, 'b-', linewidth = 2, label = 'sin(x)')\n",
    "ax.plot(x, z, 'r-', linewidth = 2, label = 'cos(x)')\n",
    "ax.legend(loc = 'lower left')\n",
    "plt.show()"
   ]
  },
  {
   "cell_type": "markdown",
   "id": "82a1167c",
   "metadata": {},
   "source": [
    "Plot several graphs in one figure:"
   ]
  },
  {
   "cell_type": "code",
   "execution_count": null,
   "id": "c0f001f0",
   "metadata": {},
   "outputs": [],
   "source": [
    "fig, ax = plt.subplots(2, 1)\n",
    "ax[0].plot(x, y, 'b-', linewidth = 2)\n",
    "ax[1].plot(x, z, 'r-', linewidth = 2)\n",
    "plt.show()"
   ]
  },
  {
   "cell_type": "markdown",
   "id": "dd9e486d",
   "metadata": {},
   "source": [
    "Add labels to each graph:"
   ]
  },
  {
   "cell_type": "code",
   "execution_count": null,
   "id": "385faab0",
   "metadata": {},
   "outputs": [],
   "source": [
    "fig, ax = plt.subplots(2, 1)\n",
    "ax[0].plot(x, y, 'b-', linewidth = 2, label = 'sin(x)')\n",
    "ax[0].legend(loc = 'lower left')\n",
    "ax[1].plot(x, z, 'r-', linewidth = 2, label = 'cos(x)')\n",
    "ax[1].legend(loc = 'lower left')\n",
    "plt.show()"
   ]
  },
  {
   "cell_type": "markdown",
   "id": "55a030f4",
   "metadata": {},
   "source": [
    "Add titles:"
   ]
  },
  {
   "cell_type": "code",
   "execution_count": null,
   "id": "f3ffeaf6",
   "metadata": {},
   "outputs": [],
   "source": [
    "fig, ax = plt.subplots(2, 1)\n",
    "ax[0].plot(x, y, 'b-', linewidth = 2, label = 'sin(x)')\n",
    "ax[0].legend(loc = 'lower left')\n",
    "ax[0].set(title = 'sin(x)')\n",
    "ax[1].plot(x, z, 'r-', linewidth = 2, label = 'cos(x)')\n",
    "ax[1].legend(loc = 'lower left')\n",
    "ax[1].set(title = 'cos(x)')\n",
    "plt.show()"
   ]
  },
  {
   "cell_type": "markdown",
   "id": "8fed3f76",
   "metadata": {},
   "source": [
    "Remove the x-axis tickers in the upper graph:"
   ]
  },
  {
   "cell_type": "code",
   "execution_count": null,
   "id": "b9841c0a",
   "metadata": {},
   "outputs": [],
   "source": [
    "fig, ax = plt.subplots(2, 1)\n",
    "ax[0].plot(x, y, 'b-', linewidth = 2, label = 'sin(x)')\n",
    "ax[0].legend(loc = 'lower left')\n",
    "ax[0].set(title = 'sin(x)', xticks = [])\n",
    "ax[1].plot(x, z, 'r-', linewidth = 2, label = 'cos(x)')\n",
    "ax[1].legend(loc = 'lower left')\n",
    "ax[1].set(title = 'cos(x)')\n",
    "plt.show()"
   ]
  },
  {
   "cell_type": "markdown",
   "id": "9fad6f6f",
   "metadata": {},
   "source": [
    "Add several other graphs to the figure:"
   ]
  },
  {
   "cell_type": "code",
   "execution_count": null,
   "id": "4069b79c",
   "metadata": {},
   "outputs": [],
   "source": [
    "fig, ax = plt.subplots(2, 2)\n",
    "ax[0,0].plot(x, y, 'b-', linewidth = 2, label = 'sin(x)')\n",
    "ax[0,0].set(title = 'sin(x)', xticks = [])\n",
    "ax[1,0].plot(x, z, 'r-', linewidth = 2, label = 'cos(x)')\n",
    "ax[1,0].set(title = 'cos(x)')\n",
    "ax[0,1].plot(x, -y, 'b.', linewidth = 2, label = '-sin(x)')\n",
    "ax[0,1].set(title = '-sin(x)', yticks = [], xticks = [])\n",
    "ax[1,1].plot(x, -z, 'r.', linewidth = 2, label = '-cos(x)')\n",
    "ax[1,1].set(title = '-cos(x)', yticks = [])\n",
    "plt.show()"
   ]
  },
  {
   "cell_type": "markdown",
   "id": "080e0d9b",
   "metadata": {},
   "source": [
    "Instead of simply showing the plot in our program, we can save the plot locally on our computer using the savefig function. Remember to make the figure large enough such that the saved figure is not grainy."
   ]
  },
  {
   "cell_type": "code",
   "execution_count": null,
   "id": "44b16df6",
   "metadata": {},
   "outputs": [],
   "source": [
    "# save figure\n",
    "fig.savefig('line_plot_fig.png',        # name (and path) for storing image\n",
    "            dpi = 300,             # image resolution\n",
    "            bbox_inches = 'tight') # remove white space around image"
   ]
  },
  {
   "cell_type": "markdown",
   "id": "2775580c",
   "metadata": {},
   "source": [
    "## Other types of plots"
   ]
  },
  {
   "cell_type": "markdown",
   "id": "bb488832",
   "metadata": {},
   "source": [
    "#### Scatter plots:\n",
    "\n",
    "We can use the `scatter` function to create scatter plots.\n",
    "\n",
    "In order to create a scatter plot, we must supply the `scatter` function with sequences of values to plot on the y-axis and x-axis."
   ]
  },
  {
   "cell_type": "code",
   "execution_count": null,
   "id": "8d98f477",
   "metadata": {},
   "outputs": [],
   "source": [
    "x_values = [1, 2, 3, 4, 5, 6]\n",
    "y_values = [1, 5, 6, 10, 18, 20]"
   ]
  },
  {
   "cell_type": "code",
   "execution_count": null,
   "id": "ad4022eb",
   "metadata": {},
   "outputs": [],
   "source": [
    "fig, ax = plt.subplots()\n",
    "\n",
    "ax.scatter(x_values, y_values)\n",
    "\n",
    "plt.show()"
   ]
  },
  {
   "cell_type": "markdown",
   "id": "5bc41dde",
   "metadata": {},
   "source": [
    "We can change the style of the plot by supplying additional arguments to the function call..."
   ]
  },
  {
   "cell_type": "code",
   "execution_count": null,
   "id": "11fb30f1",
   "metadata": {},
   "outputs": [],
   "source": [
    "fig, ax = plt.subplots()\n",
    "\n",
    "ax.scatter(x_values, y_values, \n",
    "           marker = 'o',\n",
    "           s = 100,                        \n",
    "           color = 'red')\n",
    "\n",
    "plt.show()"
   ]
  },
  {
   "cell_type": "markdown",
   "id": "b029d73d",
   "metadata": {},
   "source": [
    "...and style the figure by adding for instance labels and titles."
   ]
  },
  {
   "cell_type": "code",
   "execution_count": null,
   "id": "2f092961",
   "metadata": {},
   "outputs": [],
   "source": [
    "fig, ax = plt.subplots()\n",
    "\n",
    "ax.scatter(x_values, y_values, \n",
    "           marker = 'o',\n",
    "           s = 50, \n",
    "           color = 'red')\n",
    "\n",
    "# set axis label\n",
    "ax.set_ylabel('Label on the y-axis')\n",
    "ax.set_xlabel('Label on the x-axis')\n",
    "\n",
    "# set axis range\n",
    "ax.set_xlim([0.5, 6.5])\n",
    "ax.set_ylim([0, 21])\n",
    "\n",
    "# set figure title\n",
    "ax.set_title('Title', fontsize = 20)\n",
    "\n",
    "# save figure\n",
    "fig.savefig('scatter_plot.png',   # name (and path) for storing image\n",
    "            dpi = 300,           # image resolution\n",
    "            bbox_inches='tight') # remove white space around image\n",
    "           "
   ]
  },
  {
   "cell_type": "markdown",
   "id": "7943089d",
   "metadata": {},
   "source": [
    "For an overview of all of the parameters in the `scatter` function, see the function documentation: https://matplotlib.org/stable/api/_as_gen/matplotlib.pyplot.scatter.html"
   ]
  },
  {
   "cell_type": "markdown",
   "id": "32bf4481",
   "metadata": {},
   "source": [
    "#### Bar plots:\n",
    "\n",
    "We can use the `bar` function to create bar plots."
   ]
  },
  {
   "cell_type": "markdown",
   "id": "e7196257",
   "metadata": {},
   "source": [
    "In bar plots, we plot the number of *occurrences* of each *category*."
   ]
  },
  {
   "cell_type": "code",
   "execution_count": null,
   "id": "2ca601a6",
   "metadata": {},
   "outputs": [],
   "source": [
    "age_groups = ['16-20', '21-25', '26-30', '31-35']\n",
    "respondents = [190, 160, 350, 300]"
   ]
  },
  {
   "cell_type": "code",
   "execution_count": null,
   "id": "8f800033",
   "metadata": {},
   "outputs": [],
   "source": [
    "fig, ax = plt.subplots()\n",
    "\n",
    "ax.bar(age_groups,  # categories\n",
    "       respondents, # no. of occurrences (height of bars)\n",
    "       0.4)         # width of bars\n",
    "\n",
    "plt.show()"
   ]
  },
  {
   "cell_type": "markdown",
   "id": "bc3687d0",
   "metadata": {},
   "source": [
    "We can style the figure by adding labels and specifying more of the arguments in the function call."
   ]
  },
  {
   "cell_type": "code",
   "execution_count": null,
   "id": "de762ede",
   "metadata": {},
   "outputs": [],
   "source": [
    "fig, ax = plt.subplots()\n",
    "\n",
    "ax.bar(age_groups, respondents, 0.5, \n",
    "       facecolor = 'red', \n",
    "       edgecolor = 'black', \n",
    "       alpha = 0.1,\n",
    "       hatch = '/') \n",
    "\n",
    "# set axis label\n",
    "ax.set_ylabel('No. of respondents')\n",
    "ax.set_xlabel('Age group')\n",
    "\n",
    "# set figure title\n",
    "ax.set_title('Number of respondents per age group', fontsize = 16)\n",
    "\n",
    "# save figure\n",
    "fig.savefig('bar_plot.png',       # name (and path) for storing image\n",
    "            dpi = 300,           # image resolution\n",
    "            bbox_inches='tight') # remove white space around image"
   ]
  },
  {
   "cell_type": "markdown",
   "id": "3b534b6d",
   "metadata": {},
   "source": [
    "For an overview of all of the parameters in the `bar` function, see the function documentation: https://matplotlib.org/stable/api/_as_gen/matplotlib.pyplot.bar.html"
   ]
  },
  {
   "cell_type": "markdown",
   "id": "43fc1c0d",
   "metadata": {},
   "source": [
    "#### Histograms:\n",
    "\n",
    "We can use the `hist` function to create histograms."
   ]
  },
  {
   "cell_type": "markdown",
   "id": "b1914c8c",
   "metadata": {},
   "source": [
    "Histograms plot the *distribution* of a nummerical variable."
   ]
  },
  {
   "cell_type": "code",
   "execution_count": null,
   "id": "1ae9b708",
   "metadata": {},
   "outputs": [],
   "source": [
    "x_values = [1, 2, 4, 6, 9, 5, 3, 7, 0, 3, 2, 9, 5, 3, 6, 8, 3, 2, 8, 9, 8, 6, 5, 2, 9, 1, 2, 3, 1, 6]"
   ]
  },
  {
   "cell_type": "code",
   "execution_count": null,
   "id": "5f12aae5",
   "metadata": {},
   "outputs": [],
   "source": [
    "fig, ax = plt.subplots()\n",
    "\n",
    "ax.hist(x_values, \n",
    "        bins = 10, \n",
    "        facecolor = 'red', \n",
    "        alpha = 0.5)\n",
    "\n",
    "plt.show()"
   ]
  },
  {
   "cell_type": "markdown",
   "id": "8ba9df22",
   "metadata": {},
   "source": [
    "Add \"density = True\" if each column should indicate the probability of each bin (see the probability on the y-axis):"
   ]
  },
  {
   "cell_type": "code",
   "execution_count": null,
   "id": "db854958",
   "metadata": {},
   "outputs": [],
   "source": [
    "fig, ax = plt.subplots()\n",
    "\n",
    "ax.hist(x_values, \n",
    "          bins = 10, \n",
    "          facecolor = 'red', \n",
    "          alpha = 0.5, \n",
    "          density = True)\n",
    "\n",
    "plt.show()"
   ]
  },
  {
   "cell_type": "markdown",
   "id": "28a39b09",
   "metadata": {},
   "source": [
    "For an overview of all of the parameters in the `hist` function, see the function documentation: https://matplotlib.org/3.3.4/api/_as_gen/matplotlib.pyplot.hist.html"
   ]
  },
  {
   "cell_type": "code",
   "execution_count": null,
   "id": "b858fda8",
   "metadata": {},
   "outputs": [],
   "source": []
  }
 ],
 "metadata": {
  "kernelspec": {
   "display_name": "Python 3 (ipykernel)",
   "language": "python",
   "name": "python3"
  },
  "language_info": {
   "codemirror_mode": {
    "name": "ipython",
    "version": 3
   },
   "file_extension": ".py",
   "mimetype": "text/x-python",
   "name": "python",
   "nbconvert_exporter": "python",
   "pygments_lexer": "ipython3",
   "version": "3.9.13"
  }
 },
 "nbformat": 4,
 "nbformat_minor": 5
}
