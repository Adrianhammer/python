{
 "cells": [
  {
   "cell_type": "markdown",
   "id": "1e5bf0e8",
   "metadata": {},
   "source": [
    "# satsmodels - overview"
   ]
  },
  {
   "cell_type": "markdown",
   "id": "46e5a296",
   "metadata": {},
   "source": [
    "`statsmodels` is a Python library Python which contains methods for fitting statistical models."
   ]
  },
  {
   "cell_type": "markdown",
   "id": "bf582756",
   "metadata": {},
   "source": [
    "There are three main parts of `statsmodels`:\n",
    "1. statsmodels.api\n",
    "2. statsmodels.tsa.api\n",
    "3. statsmodels.formula.api\n",
    "\n",
    "https://www.statsmodels.org/stable/index.html\n"
   ]
  },
  {
   "cell_type": "markdown",
   "id": "5bf05a2e",
   "metadata": {},
   "source": [
    "## 1. statsmodels.api\n",
    "- This part contains methods to perform regression analysis on cross-sectional data.\n",
    "- To define a model, you have to specify a data frame for the y-variable and a data frame with the x-variables.\n",
    "- To use the methods in statsmodels.api, you have to import it:\n",
    "    - import statsmodels.api as sm\n",
    "- https://www.statsmodels.org/stable/api.html#statsmodels-api"
   ]
  },
  {
   "cell_type": "markdown",
   "id": "b5631319",
   "metadata": {},
   "source": [
    "## 2. statsmodels.tsa.api\n",
    "- This part contains methods to perform time series analysis.\n",
    "- To define a model, you have to specify a data frame for the y-variable and a data frame with the x-variables.\n",
    "- To use the methods in statsmodels.tsa.api, you have to import it:\n",
    "- import statsmodels.tsa.api as tsa\n",
    "- https://www.statsmodels.org/stable/api.html#statsmodels-tsa-api"
   ]
  },
  {
   "cell_type": "markdown",
   "id": "2ebe4c2d",
   "metadata": {},
   "source": [
    "## 3. statsmodels.formula.api\n",
    "- This part contains methods to specify models using an equation.\n",
    "- To define a model, you have to specify an equation: y ~ x1 + x2, for example (note that we do not use the = sign, as it is already used for assigning values).\n",
    "- To fit this model, you have to specify the data frame with the dependent and explanatory variables.\n",
    "- To use the methods in statsmodels.formula.api, you have to import it:\n",
    "- import statsmodels.formula.api as smf\n",
    "- https://www.statsmodels.org/stable/api.html#statsmodels-formula-api"
   ]
  }
 ],
 "metadata": {
  "kernelspec": {
   "display_name": "Python 3 (ipykernel)",
   "language": "python",
   "name": "python3"
  },
  "language_info": {
   "codemirror_mode": {
    "name": "ipython",
    "version": 3
   },
   "file_extension": ".py",
   "mimetype": "text/x-python",
   "name": "python",
   "nbconvert_exporter": "python",
   "pygments_lexer": "ipython3",
   "version": "3.9.13"
  }
 },
 "nbformat": 4,
 "nbformat_minor": 5
}
