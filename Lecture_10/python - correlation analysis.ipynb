{
 "cells": [
  {
   "cell_type": "markdown",
   "metadata": {},
   "source": [
    "# Correlation analysis"
   ]
  },
  {
   "cell_type": "code",
   "execution_count": null,
   "metadata": {},
   "outputs": [],
   "source": [
    "import pandas as pd\n",
    "import numpy as np\n",
    "import matplotlib.pyplot as plt"
   ]
  },
  {
   "cell_type": "markdown",
   "metadata": {},
   "source": [
    "The correlation coefficient measures the strength of the **linear** relationship between two variables. \n",
    "\n",
    "It is bounded between +1 and -1, with a correlation coefficient close to zero indicating no *linear* relationship between the two variables."
   ]
  },
  {
   "cell_type": "code",
   "execution_count": null,
   "metadata": {},
   "outputs": [],
   "source": [
    "x = np.arange(5, 60, 10)\n",
    "y = [38, 22, 32, 14, 20, 5]"
   ]
  },
  {
   "cell_type": "code",
   "execution_count": null,
   "metadata": {},
   "outputs": [],
   "source": [
    "fig, ax = plt.subplots()\n",
    "ax.scatter(x, y)\n",
    "ax.set_xlabel('x', fontsize = 16)\n",
    "ax.set_ylabel('y', fontsize = 16)\n",
    "plt.show()"
   ]
  },
  {
   "cell_type": "markdown",
   "metadata": {},
   "source": [
    "The function `corrcoef` from numpy calculates the correlation coefficient between two sequences of values.\n",
    "\n",
    "(Notice that the correlation between X and Y is the same as the correlation between Y and X)."
   ]
  },
  {
   "cell_type": "code",
   "execution_count": null,
   "metadata": {},
   "outputs": [],
   "source": [
    "print(np.corrcoef(x, y))"
   ]
  },
  {
   "cell_type": "markdown",
   "metadata": {},
   "source": [
    "The function `corr` from pandas calculates the correlation coefficient for all numeric variables in a DataFrame."
   ]
  },
  {
   "cell_type": "code",
   "execution_count": null,
   "metadata": {},
   "outputs": [],
   "source": [
    "values = {'Price'  : np.arange(5, 60, 10),\n",
    "          'Demand' : [38, 22, 32, 14, 20, 5]}\n",
    "\n",
    "df = pd.DataFrame(values)\n",
    "\n",
    "df"
   ]
  },
  {
   "cell_type": "code",
   "execution_count": null,
   "metadata": {},
   "outputs": [],
   "source": [
    "fig, ax = plt.subplots()\n",
    "ax.scatter(df['Price'], df['Demand'])\n",
    "ax.set_xlabel('Price', fontsize = 16)\n",
    "ax.set_ylabel('Demand', fontsize = 16)\n",
    "plt.show()"
   ]
  },
  {
   "cell_type": "code",
   "execution_count": null,
   "metadata": {},
   "outputs": [],
   "source": [
    "df.corr()"
   ]
  },
  {
   "cell_type": "markdown",
   "metadata": {},
   "source": [
    "In the last class exercise, we saw that there seemed to be a relationship between fuel economy (mpg) and car attributes such as horsepower and weight."
   ]
  },
  {
   "cell_type": "code",
   "execution_count": null,
   "metadata": {},
   "outputs": [],
   "source": [
    "mpg = pd.read_csv('mpg.csv')\n",
    "\n",
    "mpg.head()"
   ]
  },
  {
   "cell_type": "code",
   "execution_count": null,
   "metadata": {},
   "outputs": [],
   "source": [
    "fig, ax = plt.subplots(nrows = 1, ncols = 3, figsize = (13, 3))\n",
    "\n",
    "# scatter plot horsepower\n",
    "ax[0].scatter(mpg['horsepower'], mpg['mpg'])\n",
    "ax[0].set_xlabel('horsepower')\n",
    "ax[0].set_ylabel('mpg')\n",
    "\n",
    "# scatter plot weight\n",
    "ax[1].scatter(mpg['weight'], mpg['mpg'])\n",
    "ax[1].set_xlabel('weight')\n",
    "\n",
    "# scatter plot acceleration\n",
    "ax[2].scatter(mpg['acceleration'], mpg['mpg'])\n",
    "ax[2].set_xlabel('acceleration')\n",
    "\n",
    "plt.show()"
   ]
  },
  {
   "cell_type": "code",
   "execution_count": null,
   "metadata": {},
   "outputs": [],
   "source": [
    "mpg.corr()"
   ]
  },
  {
   "cell_type": "markdown",
   "metadata": {},
   "source": [
    "We can get specific correlations by using the .loc() function:"
   ]
  },
  {
   "cell_type": "code",
   "execution_count": null,
   "metadata": {},
   "outputs": [],
   "source": [
    "corr_horsepower = mpg.corr().loc['mpg', 'horsepower']\n",
    "corr_weight = mpg.corr().loc['mpg', 'weight']\n",
    "corr_acceleration = mpg.corr().loc['mpg', 'acceleration']"
   ]
  },
  {
   "cell_type": "code",
   "execution_count": null,
   "metadata": {},
   "outputs": [],
   "source": [
    "fig, ax = plt.subplots(nrows = 1, ncols = 3, figsize = (13, 3))\n",
    "\n",
    "# scatter plot horsepower\n",
    "ax[0].scatter(mpg['horsepower'], mpg['mpg'])\n",
    "ax[0].set_xlabel('horsepower')\n",
    "ax[0].set_ylabel('mpg')\n",
    "ax[0].set_title(f'r = {round(corr_horsepower, 2)}')\n",
    "\n",
    "# scatter plot weight\n",
    "ax[1].scatter(mpg['weight'], mpg['mpg'])\n",
    "ax[1].set_xlabel('weight')\n",
    "ax[1].set_title(f'r = {round(corr_weight, 2)}')\n",
    "\n",
    "# scatter plot acceleration\n",
    "ax[2].scatter(mpg['acceleration'], mpg['mpg'])\n",
    "ax[2].set_xlabel('acceleration')\n",
    "ax[2].set_title(f'r = {round(corr_acceleration, 2)}')\n",
    "\n",
    "plt.show()"
   ]
  },
  {
   "cell_type": "code",
   "execution_count": null,
   "metadata": {},
   "outputs": [],
   "source": []
  }
 ],
 "metadata": {
  "kernelspec": {
   "display_name": "Python 3 (ipykernel)",
   "language": "python",
   "name": "python3"
  },
  "language_info": {
   "codemirror_mode": {
    "name": "ipython",
    "version": 3
   },
   "file_extension": ".py",
   "mimetype": "text/x-python",
   "name": "python",
   "nbconvert_exporter": "python",
   "pygments_lexer": "ipython3",
   "version": "3.9.13"
  }
 },
 "nbformat": 4,
 "nbformat_minor": 4
}
