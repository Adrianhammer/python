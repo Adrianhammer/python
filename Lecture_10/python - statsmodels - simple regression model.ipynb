{
 "cells": [
  {
   "cell_type": "markdown",
   "metadata": {},
   "source": [
    "# Linear regression in Python with the statsmodels library"
   ]
  },
  {
   "cell_type": "code",
   "execution_count": null,
   "metadata": {},
   "outputs": [],
   "source": [
    "import pandas as pd\n",
    "import matplotlib.pyplot as plt"
   ]
  },
  {
   "cell_type": "markdown",
   "metadata": {},
   "source": [
    "## Simple linear regression"
   ]
  },
  {
   "cell_type": "markdown",
   "metadata": {},
   "source": [
    "In simple linear regression, we predict a dependent variable, Y, using only one explanatory (independent) variable, X. \n",
    "\n",
    "We will fit a regression line to observations on X and Y using the OLS estimator from `statsmodels`."
   ]
  },
  {
   "cell_type": "markdown",
   "metadata": {},
   "source": [
    "**Step 1:** import the package"
   ]
  },
  {
   "cell_type": "code",
   "execution_count": null,
   "metadata": {},
   "outputs": [],
   "source": [
    "import statsmodels.api as sm"
   ]
  },
  {
   "cell_type": "markdown",
   "metadata": {},
   "source": [
    "**Step 2:** Provide data as a pandas `DataFrame`"
   ]
  },
  {
   "cell_type": "code",
   "execution_count": null,
   "metadata": {},
   "outputs": [],
   "source": [
    "values = {'Price'  : [5, 15, 25, 35, 45, 55],\n",
    "          'Demand' : [38, 22, 32, 14, 20, 5]}\n",
    "\n",
    "df = pd.DataFrame(values)\n",
    "\n",
    "df"
   ]
  },
  {
   "cell_type": "code",
   "execution_count": null,
   "metadata": {},
   "outputs": [],
   "source": [
    "fig, ax = plt.subplots(figsize = (7, 4))\n",
    "\n",
    "\n",
    "# plot actual values\n",
    "ax.scatter(df['Price'], df['Demand'], \n",
    "           marker = 's', \n",
    "           color = 'green',\n",
    "           s = 40)\n",
    "\n",
    "# set ranges\n",
    "ax.set_xlim(0, 60)\n",
    "ax.set_ylim(0, 40)\n",
    "    \n",
    "# set labels\n",
    "ax.set_ylabel('Demand', fontsize = 14)\n",
    "ax.set_xlabel('Price', fontsize = 14)\n",
    "\n",
    "plt.show()"
   ]
  },
  {
   "cell_type": "code",
   "execution_count": null,
   "metadata": {},
   "outputs": [],
   "source": [
    "# extract data for the dependent variable (Y) and the explanatory variable (X).\n",
    "# this data extraction defines your model.\n",
    "X = df['Price'] \n",
    "Y = df['Demand'] "
   ]
  },
  {
   "cell_type": "markdown",
   "metadata": {},
   "source": [
    "**Step 3:** Create regression model and fit it to the data."
   ]
  },
  {
   "cell_type": "markdown",
   "metadata": {},
   "source": [
    "Use the function `add_constant` to add a constant to the independent data."
   ]
  },
  {
   "cell_type": "code",
   "execution_count": null,
   "metadata": {},
   "outputs": [],
   "source": [
    "X = sm.add_constant(data = X) \n",
    "X"
   ]
  },
  {
   "cell_type": "markdown",
   "metadata": {},
   "source": [
    "Use the function `fit` from the sub-module `OLS` to fit a model. The `fit` function requires two inputs: the dependent variable, and the explanatory variable (constant term and explanatory variable)."
   ]
  },
  {
   "cell_type": "code",
   "execution_count": null,
   "metadata": {},
   "outputs": [],
   "source": [
    "model = sm.OLS(Y, X) # Describe model\n",
    "reg_res = model.fit() # Fit model"
   ]
  },
  {
   "cell_type": "code",
   "execution_count": null,
   "metadata": {},
   "outputs": [],
   "source": [
    "model"
   ]
  },
  {
   "cell_type": "code",
   "execution_count": null,
   "metadata": {},
   "outputs": [],
   "source": [
    "reg_res"
   ]
  },
  {
   "cell_type": "markdown",
   "metadata": {},
   "source": [
    "Use the function `summary` to see the model output."
   ]
  },
  {
   "cell_type": "code",
   "execution_count": null,
   "metadata": {},
   "outputs": [],
   "source": [
    "reg_res.summary() # Summarize model"
   ]
  },
  {
   "cell_type": "markdown",
   "metadata": {},
   "source": [
    "If we use the print function to print the summary, the output will be formatted differently:"
   ]
  },
  {
   "cell_type": "code",
   "execution_count": null,
   "metadata": {},
   "outputs": [],
   "source": [
    "print(reg_res.summary())"
   ]
  },
  {
   "cell_type": "markdown",
   "metadata": {},
   "source": [
    "The model specification, fit, and summary can be done in one go:"
   ]
  },
  {
   "cell_type": "code",
   "execution_count": null,
   "metadata": {},
   "outputs": [],
   "source": [
    "print(sm.OLS(Y, X).fit().summary())"
   ]
  },
  {
   "cell_type": "markdown",
   "metadata": {},
   "source": [
    "What kind of data do we have in the regression results? Use `dir()` to get an overview:"
   ]
  },
  {
   "cell_type": "code",
   "execution_count": null,
   "metadata": {},
   "outputs": [],
   "source": [
    "dir(reg_res)"
   ]
  },
  {
   "cell_type": "markdown",
   "metadata": {},
   "source": [
    "Lets look at the parameters (constant term and slopes):"
   ]
  },
  {
   "cell_type": "code",
   "execution_count": null,
   "metadata": {},
   "outputs": [],
   "source": [
    "reg_res.params"
   ]
  },
  {
   "cell_type": "markdown",
   "metadata": {},
   "source": [
    "From the model summary, we find the estimate for $\\alpha$ (constant term). \n",
    "\n",
    "(This is our prediction for demand when the price is equal to 0.)"
   ]
  },
  {
   "cell_type": "code",
   "execution_count": null,
   "metadata": {},
   "outputs": [],
   "source": [
    "alpha = reg_res.params['const']\n",
    "alpha"
   ]
  },
  {
   "cell_type": "markdown",
   "metadata": {},
   "source": [
    "We also find the estimate for $\\beta$ (slope). \n",
    "\n",
    "This is our prediction for the change in demand when price goes up by 1 unit."
   ]
  },
  {
   "cell_type": "code",
   "execution_count": null,
   "metadata": {},
   "outputs": [],
   "source": [
    "beta = reg_res.params['Price']\n",
    "beta"
   ]
  },
  {
   "cell_type": "markdown",
   "metadata": {},
   "source": [
    "**Step 4:** Check the model fit"
   ]
  },
  {
   "cell_type": "markdown",
   "metadata": {},
   "source": [
    "The R-squared tells us how much of the variation in demand (Y) can be explained/predicted by the variation in price (X)."
   ]
  },
  {
   "cell_type": "markdown",
   "metadata": {},
   "source": [
    "Notice that the model provides us with two estimates for the R-squared."
   ]
  },
  {
   "cell_type": "code",
   "execution_count": null,
   "metadata": {},
   "outputs": [],
   "source": [
    "reg_res.rsquared"
   ]
  },
  {
   "cell_type": "markdown",
   "metadata": {},
   "source": [
    "r-squared adjusted takes into account the number of variables in the model and the lack of observations:"
   ]
  },
  {
   "cell_type": "code",
   "execution_count": null,
   "metadata": {},
   "outputs": [],
   "source": [
    "reg_res.rsquared_adj"
   ]
  },
  {
   "cell_type": "markdown",
   "metadata": {},
   "source": [
    "**Note:** We will use the estimates for the Adj. R-squared from now on."
   ]
  },
  {
   "cell_type": "markdown",
   "metadata": {},
   "source": [
    "**Step 5:** Apply the model for predictions"
   ]
  },
  {
   "cell_type": "markdown",
   "metadata": {},
   "source": [
    "We can use the function `predict` to create predictions of demand (Y) for a given price (X)."
   ]
  },
  {
   "cell_type": "markdown",
   "metadata": {},
   "source": [
    "The function `predict` requires one input: the values of X that we want to predict Y for. Given a value of X of 15, what is the expected value of Y?"
   ]
  },
  {
   "cell_type": "code",
   "execution_count": null,
   "metadata": {},
   "outputs": [],
   "source": [
    "reg_res.predict((1, 15)) # (constant, X)"
   ]
  },
  {
   "cell_type": "markdown",
   "metadata": {},
   "source": [
    "What is the model predicted values of Y given the observed X?"
   ]
  },
  {
   "cell_type": "code",
   "execution_count": null,
   "metadata": {},
   "outputs": [],
   "source": [
    "pred = reg_res.predict(X)\n",
    "\n",
    "pred"
   ]
  },
  {
   "cell_type": "code",
   "execution_count": null,
   "metadata": {},
   "outputs": [],
   "source": [
    "df['Predicted demand'] = pred\n",
    "\n",
    "df"
   ]
  },
  {
   "cell_type": "markdown",
   "metadata": {},
   "source": [
    "Plot actual values and predicted values:"
   ]
  },
  {
   "cell_type": "code",
   "execution_count": null,
   "metadata": {},
   "outputs": [],
   "source": [
    "fig, ax = plt.subplots(figsize = (7, 4))\n",
    "\n",
    "# plot actual values\n",
    "ax.scatter(df['Price'], df['Demand'], \n",
    "           label = 'Actual Y', \n",
    "           marker = 's', \n",
    "           color = 'green')\n",
    "\n",
    "# plot predicted values\n",
    "ax.plot(df['Price'], df['Predicted demand'], \n",
    "        label = 'Predicted Y', \n",
    "        color = 'black',\n",
    "        marker = 'o',\n",
    "        markerfacecolor = 'red',\n",
    "        markeredgecolor = 'red')\n",
    "    \n",
    "# set labels\n",
    "ax.set_ylabel('Demand', fontsize = 14)\n",
    "ax.set_xlabel('Price', fontsize = 14)\n",
    "\n",
    "# add legend\n",
    "ax.legend(loc = 'upper right')\n",
    "\n",
    "plt.show()"
   ]
  },
  {
   "cell_type": "markdown",
   "metadata": {},
   "source": [
    "Notice that the regression line is fitted so that the sum of the residuals is equal to 0."
   ]
  },
  {
   "cell_type": "code",
   "execution_count": null,
   "metadata": {},
   "outputs": [],
   "source": [
    "df['Residual'] = df['Demand'] - df['Predicted demand']\n",
    "\n",
    "df"
   ]
  },
  {
   "cell_type": "markdown",
   "metadata": {},
   "source": [
    "In an OLS regression, the residuals always sum to zero (or very close due to rounding errors):"
   ]
  },
  {
   "cell_type": "code",
   "execution_count": null,
   "metadata": {},
   "outputs": [],
   "source": [
    "df['Residual'].sum()"
   ]
  },
  {
   "cell_type": "code",
   "execution_count": null,
   "metadata": {},
   "outputs": [],
   "source": [
    "fig, ax = plt.subplots(figsize = (7, 4))\n",
    "\n",
    "# plot actual values as green squares\n",
    "ax.scatter(df['Price'], df['Demand'], label = 'Actual Y', \n",
    "           marker = 's', \n",
    "           color = 'green',\n",
    "           s = 40,\n",
    "           zorder = 2)\n",
    "\n",
    "# plot predicted values as red circles\n",
    "ax.plot(df['Price'], df['Predicted demand'], label = 'Predicted Y', \n",
    "        color = 'black',\n",
    "        marker = 'o',\n",
    "        markerfacecolor = 'red',\n",
    "        markeredgecolor = 'red')\n",
    "\n",
    "# plot residuals as grey dotted lines\n",
    "for x, y1, y2 in zip(df['Price'], df['Demand'], df['Predicted demand']):\n",
    "    ax.vlines(x = x, ymin = y1, ymax = y2,\n",
    "              color = 'grey', \n",
    "              linestyle = '--',\n",
    "              label = 'Residual')\n",
    "    \n",
    "# set labels\n",
    "ax.set_ylabel('Demand', fontsize = 14)\n",
    "ax.set_xlabel('Price', fontsize = 14)\n",
    "\n",
    "# extract handles and labels\n",
    "handles, labels = ax.get_legend_handles_labels() \n",
    "\n",
    "# add legend for only the three first labels\n",
    "ax.legend(handles[:3], labels[:3], loc = 'upper right')\n",
    "\n",
    "plt.show()"
   ]
  },
  {
   "cell_type": "code",
   "execution_count": null,
   "metadata": {},
   "outputs": [],
   "source": []
  },
  {
   "cell_type": "code",
   "execution_count": null,
   "metadata": {},
   "outputs": [],
   "source": []
  }
 ],
 "metadata": {
  "kernelspec": {
   "display_name": "Python 3 (ipykernel)",
   "language": "python",
   "name": "python3"
  },
  "language_info": {
   "codemirror_mode": {
    "name": "ipython",
    "version": 3
   },
   "file_extension": ".py",
   "mimetype": "text/x-python",
   "name": "python",
   "nbconvert_exporter": "python",
   "pygments_lexer": "ipython3",
   "version": "3.9.13"
  }
 },
 "nbformat": 4,
 "nbformat_minor": 4
}
