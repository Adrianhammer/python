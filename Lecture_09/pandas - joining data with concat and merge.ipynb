{
 "cells": [
  {
   "cell_type": "markdown",
   "metadata": {},
   "source": [
    "# Pandas - joining data with *concat* and *merge*"
   ]
  },
  {
   "cell_type": "code",
   "execution_count": null,
   "metadata": {},
   "outputs": [],
   "source": [
    "import pandas as pd"
   ]
  },
  {
   "cell_type": "markdown",
   "metadata": {},
   "source": [
    "## Combining data\n",
    "\n",
    "Pandas offers several different functions for combining DataFrames. The two most common ways to combine data is to `concat` and `merge` DataFrames."
   ]
  },
  {
   "cell_type": "markdown",
   "metadata": {},
   "source": [
    "`concat` is used to stack two data sets on top of each other. This is used when the data sets have basically the same columns (variables) but different rows (observations).\n",
    "\n",
    "`merge` is used when the two data sets share the same entities but have different columns (variables). Entities can be index, dates, customer_id, etc..."
   ]
  },
  {
   "cell_type": "code",
   "execution_count": null,
   "metadata": {},
   "outputs": [],
   "source": [
    "grade_dict = {'Name' : ['Jenny', 'Oleg', 'Chang', 'Jonas'],\n",
    "              'Score' : [95.0, 79.0, 58.0, 71.0],\n",
    "              'Pass' : ['yes', 'yes', 'no', 'yes'],\n",
    "              'Age'   : [19, 18, 20, 22], \n",
    "              'City'  : ['Bergen', 'Oslo', 'Copenhagen', 'Stockholm']\n",
    "             }\n",
    "\n",
    "df = pd.DataFrame(grade_dict)\n",
    "\n",
    "df"
   ]
  },
  {
   "cell_type": "markdown",
   "metadata": {},
   "source": [
    "### Concat:"
   ]
  },
  {
   "cell_type": "markdown",
   "metadata": {},
   "source": [
    "We can use the `concat` function to stack DataFrames that share the same columns, but have different observations. "
   ]
  },
  {
   "cell_type": "code",
   "execution_count": null,
   "metadata": {},
   "outputs": [],
   "source": [
    "grade_dict = {'Name' : ['Jenny', 'Oleg', 'Chang', 'Jonas'],\n",
    "              'Score' : [95.0, 79.0, 58.0, 71.0],\n",
    "              'Pass' : ['yes', 'yes', 'no', 'yes'],\n",
    "              'Age'   : [19, 18, 20, 22], \n",
    "              'City'  : ['Bergen', 'Oslo', 'Copenhagen', 'Stockholm']\n",
    "             }\n",
    "\n",
    "df = pd.DataFrame(grade_dict)\n",
    "\n",
    "df"
   ]
  },
  {
   "cell_type": "code",
   "execution_count": null,
   "metadata": {},
   "outputs": [],
   "source": [
    "grade_dict2 = {'Name' : ['Nico', 'Maria', 'Mario', 'Janne'],\n",
    "               'Score' : [67, 48, 92, 71],\n",
    "               'Pass'  : ['yes', 'no', 'yes', 'yes'], \n",
    "               'Age'   : [18, 24, 21, 20], \n",
    "               'City'  : ['Oslo', 'Oslo', 'London', 'Helsinki']}\n",
    "\n",
    "df2 = pd.DataFrame(grade_dict2)\n",
    "\n",
    "df2"
   ]
  },
  {
   "cell_type": "markdown",
   "metadata": {},
   "source": [
    "As a default, the `concat` functions stacks a list of DataFrames on each other. "
   ]
  },
  {
   "cell_type": "code",
   "execution_count": null,
   "metadata": {},
   "outputs": [],
   "source": [
    "pd.concat([df, df2])"
   ]
  },
  {
   "cell_type": "markdown",
   "metadata": {},
   "source": [
    "In fact, the DataFrames do not have to have the exact same columns. \n",
    "\n",
    "`concat` will fill the cells with missing data with `NaN`."
   ]
  },
  {
   "cell_type": "code",
   "execution_count": null,
   "metadata": {},
   "outputs": [],
   "source": [
    "grade_dict2 = {'Name' : ['Nico', 'Maria', 'Mario', 'Janne'],\n",
    "               'Score' : [67, 48, 92, 71],\n",
    "               'Pass'  : ['yes', 'no', 'yes', 'yes'], \n",
    "               'Age'   : [18, 24, 21, 20]}\n",
    "# here, \"City\" is missing\n",
    "\n",
    "df2 = pd.DataFrame(grade_dict2)\n",
    "\n",
    "df2"
   ]
  },
  {
   "cell_type": "code",
   "execution_count": null,
   "metadata": {},
   "outputs": [],
   "source": [
    "df3 = pd.concat([df, df2]) \n",
    "\n",
    "df3"
   ]
  },
  {
   "cell_type": "markdown",
   "metadata": {},
   "source": [
    "However, notice that the index is now no longer unique to each observation (row). \n",
    "\n",
    "This can be fixed using the `reset_index` function."
   ]
  },
  {
   "cell_type": "code",
   "execution_count": null,
   "metadata": {},
   "outputs": [],
   "source": [
    "pd.concat([df, df2]).reset_index(drop = True)"
   ]
  },
  {
   "cell_type": "markdown",
   "metadata": {},
   "source": [
    "### Merge:"
   ]
  },
  {
   "cell_type": "markdown",
   "metadata": {},
   "source": [
    "We can use the `merge` function to combine DataFrames that share the same observations, but have different columns."
   ]
  },
  {
   "cell_type": "markdown",
   "metadata": {},
   "source": [
    "Here, our students have scores on two tests, but they are stored in separate dataframes. Some students have scores on one test, whereas some students have scores on both tests:"
   ]
  },
  {
   "cell_type": "code",
   "execution_count": null,
   "metadata": {},
   "outputs": [],
   "source": [
    "df1 = pd.DataFrame({'Name': ['Oleg', 'Jenny', 'Chang', 'Joni', 'Mario'],\n",
    "                    'Score1' : [65.0, 95.0, 79.0, 58.0, 92.0]})\n",
    "\n",
    "df1"
   ]
  },
  {
   "cell_type": "code",
   "execution_count": null,
   "metadata": {},
   "outputs": [],
   "source": [
    "df2 = pd.DataFrame({'Name': ['Oleg', 'Chang', 'Joni', 'Mario', 'Nico', 'Maria'],\n",
    "                    'Score2' : [70.0, 77.0, 92.0, 92.0, 72.0, 68.0]})\n",
    "\n",
    "df2"
   ]
  },
  {
   "cell_type": "markdown",
   "metadata": {},
   "source": [
    "By default, the `merge` function will combine only those observations found in both DataFrames, i.e. an inner join."
   ]
  },
  {
   "cell_type": "code",
   "execution_count": null,
   "metadata": {},
   "outputs": [],
   "source": [
    "x = df1.merge(df2, on = 'Name')\n",
    "\n",
    "x.head(3)"
   ]
  },
  {
   "cell_type": "markdown",
   "metadata": {},
   "source": [
    "We can instead keep all of the observations in the *left* DataFrame by setting `how = 'left'`."
   ]
  },
  {
   "cell_type": "code",
   "execution_count": null,
   "metadata": {},
   "outputs": [],
   "source": [
    "df1.merge(df2, on = 'Name', how = 'left')"
   ]
  },
  {
   "cell_type": "markdown",
   "metadata": {},
   "source": [
    "We can instead keep all of the observations in the *right* DataFrame by setting `how = 'right'`."
   ]
  },
  {
   "cell_type": "code",
   "execution_count": null,
   "metadata": {},
   "outputs": [],
   "source": [
    "df1.merge(df2, on = 'Name', how = 'right')"
   ]
  },
  {
   "cell_type": "markdown",
   "metadata": {},
   "source": [
    "Or we can keep all observations in *both* DataFrames by setting `how = 'outer'`."
   ]
  },
  {
   "cell_type": "code",
   "execution_count": null,
   "metadata": {},
   "outputs": [],
   "source": [
    "df1.merge(df2, on = 'Name', how = 'outer')"
   ]
  },
  {
   "cell_type": "markdown",
   "metadata": {},
   "source": [
    "Notice that we can merge on several variables."
   ]
  },
  {
   "cell_type": "markdown",
   "metadata": {},
   "source": [
    "The file `titanic2.csv` contains information on how much each passanger paid for their tickets. The file consists of the following columns:\n",
    "\n",
    "* PassengerId: Id of every passenger.\n",
    "* Name: Name of passenger.\n",
    "* SibSp: Number of siblings and spouse on board.\n",
    "* Parch: Numbers of parents and children on board.\n",
    "* Fare: Indicating the fare."
   ]
  },
  {
   "cell_type": "code",
   "execution_count": null,
   "metadata": {},
   "outputs": [],
   "source": [
    "titanic = pd.read_csv('titanic.csv')\n",
    "\n",
    "titanic.head()"
   ]
  },
  {
   "cell_type": "code",
   "execution_count": null,
   "metadata": {},
   "outputs": [],
   "source": [
    "titanic2 = pd.read_csv('titanic2.csv')\n",
    "\n",
    "titanic2.head()"
   ]
  },
  {
   "cell_type": "markdown",
   "metadata": {},
   "source": [
    "\"SibSp\" is the number of siblings and/or spouse the passenger had on the Titanic.\n",
    "\n",
    "\"Parch\" is how many parents and/or children the passenger had on the Titanic."
   ]
  },
  {
   "cell_type": "markdown",
   "metadata": {},
   "source": [
    "Let us merge `titanic` with `titanic2` and put the result in `titanic3`:"
   ]
  },
  {
   "cell_type": "code",
   "execution_count": null,
   "metadata": {},
   "outputs": [],
   "source": [
    "titanic3 = titanic.merge(titanic2, on = ['PassengerId', 'Name'])\n",
    "\n",
    "titanic3"
   ]
  },
  {
   "cell_type": "code",
   "execution_count": null,
   "metadata": {},
   "outputs": [],
   "source": [
    "titanic3['Fam'] = titanic3['SibSp'] + titanic3['Parch']\n",
    "\n",
    "titanic3"
   ]
  },
  {
   "cell_type": "code",
   "execution_count": null,
   "metadata": {},
   "outputs": [],
   "source": [
    "titanic3[titanic3['Fam'] == 10]"
   ]
  },
  {
   "cell_type": "code",
   "execution_count": null,
   "metadata": {},
   "outputs": [],
   "source": []
  },
  {
   "cell_type": "code",
   "execution_count": null,
   "metadata": {},
   "outputs": [],
   "source": []
  }
 ],
 "metadata": {
  "kernelspec": {
   "display_name": "Python 3 (ipykernel)",
   "language": "python",
   "name": "python3"
  },
  "language_info": {
   "codemirror_mode": {
    "name": "ipython",
    "version": 3
   },
   "file_extension": ".py",
   "mimetype": "text/x-python",
   "name": "python",
   "nbconvert_exporter": "python",
   "pygments_lexer": "ipython3",
   "version": "3.9.13"
  }
 },
 "nbformat": 4,
 "nbformat_minor": 4
}
