{
 "cells": [
  {
   "cell_type": "markdown",
   "metadata": {},
   "source": [
    "# Pandas - visualize pandas data frames"
   ]
  },
  {
   "cell_type": "code",
   "execution_count": null,
   "metadata": {},
   "outputs": [],
   "source": [
    "import pandas as pd\n",
    "import matplotlib.pyplot as plt\n",
    "import numpy as np"
   ]
  },
  {
   "cell_type": "code",
   "execution_count": null,
   "metadata": {},
   "outputs": [],
   "source": [
    "titanic3 = pd.read_csv('titanic3.csv')\n",
    "\n",
    "titanic3"
   ]
  },
  {
   "cell_type": "markdown",
   "metadata": {},
   "source": [
    "## Data visualization\n",
    "\n",
    "Data visualization is an important step in data analysis as it can reveal interesting relationship among variables in our data."
   ]
  },
  {
   "cell_type": "markdown",
   "metadata": {},
   "source": [
    "We can use the DataFrame `titanic3` and create a frequency plot (histogram) of the fare paid by the passengers."
   ]
  },
  {
   "cell_type": "markdown",
   "metadata": {},
   "source": [
    "Notice that pandas comes with built-in plotting functionalities (built on top of matplotlib). "
   ]
  },
  {
   "cell_type": "code",
   "execution_count": null,
   "metadata": {},
   "outputs": [],
   "source": [
    "titanic3.hist(column = 'Fare')\n",
    "\n",
    "plt.show()"
   ]
  },
  {
   "cell_type": "markdown",
   "metadata": {},
   "source": [
    "Alternatively, we can use matplotlib."
   ]
  },
  {
   "cell_type": "code",
   "execution_count": null,
   "metadata": {},
   "outputs": [],
   "source": [
    "fig, ax = plt.subplots()\n",
    "\n",
    "ax.hist(titanic3['Fare'], bins = 30)\n",
    "ax.set_ylabel('Frequency')\n",
    "ax.set_xlabel('Fare')\n",
    "\n",
    "plt.show()"
   ]
  },
  {
   "cell_type": "markdown",
   "metadata": {},
   "source": [
    "Let's use plots to visually inspect the relationship between the probability of survival and other variables:"
   ]
  },
  {
   "cell_type": "markdown",
   "metadata": {},
   "source": [
    "- Distribution of age by sex and survival:"
   ]
  },
  {
   "cell_type": "code",
   "execution_count": null,
   "metadata": {},
   "outputs": [],
   "source": [
    "# copy DataFrame\n",
    "titanic4 = titanic3.copy()\n",
    "\n",
    "# drop rows with NaN\n",
    "titanic4.dropna(inplace = True)"
   ]
  },
  {
   "cell_type": "code",
   "execution_count": null,
   "metadata": {},
   "outputs": [],
   "source": [
    "# filtering rows with female passenger\n",
    "women = titanic4[titanic4['Sex'] == 'female']\n",
    "\n",
    "# filtering rows with male passengers\n",
    "men = titanic4[titanic4['Sex'] == 'male']"
   ]
  },
  {
   "cell_type": "code",
   "execution_count": null,
   "metadata": {},
   "outputs": [],
   "source": [
    "women"
   ]
  },
  {
   "cell_type": "code",
   "execution_count": null,
   "metadata": {},
   "outputs": [],
   "source": [
    "men"
   ]
  },
  {
   "cell_type": "code",
   "execution_count": null,
   "metadata": {},
   "outputs": [],
   "source": [
    "fig, ax = plt.subplots()\n",
    "\n",
    "# women that did not survive\n",
    "ax.hist(women[women['Survived'] == 0]['Age'], bins = 30, \n",
    "        alpha = 0.5, \n",
    "        label = 'Not survived')\n",
    "\n",
    "# women that did survive\n",
    "ax.hist(women[women['Survived'] == 1]['Age'], bins = 30, \n",
    "        alpha = 0.5, \n",
    "        label = 'Survived')\n",
    "\n",
    "ax.legend()\n",
    "ax.set_xlabel('Age')\n",
    "ax.set_ylabel('Count')\n",
    "ax.set_yticks(np.linspace(0,20,21))\n",
    "\n",
    "plt.show()"
   ]
  },
  {
   "cell_type": "code",
   "execution_count": null,
   "metadata": {},
   "outputs": [],
   "source": [
    "fig, ax = plt.subplots(nrows = 1, ncols = 2, figsize = (10, 4))\n",
    "\n",
    "# plot\n",
    "ax[0].hist(women[women['Survived'] == 1]['Age'].dropna(), bins = 30, \n",
    "           alpha = 0.5, \n",
    "           label = 'Survived')\n",
    "\n",
    "ax[0].hist(women[women['Survived'] == 0]['Age'], bins = 30, \n",
    "           alpha = 0.5, \n",
    "           label = 'Not survived')\n",
    "\n",
    "ax[1].hist(men[men['Survived'] == 1]['Age'], bins = 30, \n",
    "           alpha = 0.5, \n",
    "           label = 'Survived')\n",
    "\n",
    "ax[1].hist(men[men['Survived'] == 0]['Age'], bins = 30, \n",
    "           alpha = 0.5, \n",
    "           label = 'Not survived')\n",
    "\n",
    "# add labels and titles\n",
    "ax[0].set_title('Female')\n",
    "ax[1].set_title('Male')\n",
    "ax[0].set_xlabel('Age')\n",
    "ax[1].set_xlabel('Age')\n",
    "\n",
    "# add legends\n",
    "ax[0].legend()\n",
    "ax[1].legend()\n",
    "\n",
    "plt.show()"
   ]
  },
  {
   "cell_type": "markdown",
   "metadata": {},
   "source": [
    "    - Two key findings:\n",
    "        1. More females than males survived\n",
    "        2. More males in the age group 18-40 did not survive"
   ]
  },
  {
   "cell_type": "markdown",
   "metadata": {},
   "source": [
    "- Probability of surviving by Fam:"
   ]
  },
  {
   "cell_type": "code",
   "execution_count": null,
   "metadata": {},
   "outputs": [],
   "source": [
    "y = titanic3.groupby(['Fam'])['Survived'].mean()\n",
    "y"
   ]
  },
  {
   "cell_type": "markdown",
   "metadata": {},
   "source": [
    "Get the index for plotting purposes:"
   ]
  },
  {
   "cell_type": "code",
   "execution_count": null,
   "metadata": {},
   "outputs": [],
   "source": [
    "x = y.index\n",
    "x"
   ]
  },
  {
   "cell_type": "code",
   "execution_count": null,
   "metadata": {},
   "outputs": [],
   "source": [
    "fig, ax = plt.subplots(figsize = (7, 4))\n",
    "\n",
    "# plot\n",
    "ax.plot(x, y, marker = 'o')\n",
    "\n",
    "# labels\n",
    "ax.set_ylabel('Survival')\n",
    "ax.set_xlabel('Family members')\n",
    "ax.set_title('Survival by # of family members on board')\n",
    "\n",
    "# hide the right and top spines\n",
    "ax.spines['right'].set_visible(False)\n",
    "ax.spines['top'].set_visible(False)\n",
    "\n",
    "plt.show()"
   ]
  },
  {
   "cell_type": "markdown",
   "metadata": {},
   "source": [
    "    - To key findings:\n",
    "        1. No one with 7 or 10 relatives on board survived.\n",
    "        2. Higest probability of surviving if 3 relatives on board."
   ]
  },
  {
   "cell_type": "code",
   "execution_count": null,
   "metadata": {},
   "outputs": [],
   "source": [
    "titanic3[titanic3['Fam']==10] # only 1 family with 10 members"
   ]
  },
  {
   "cell_type": "markdown",
   "metadata": {},
   "source": [
    "- Probability of survival by Pclass:"
   ]
  },
  {
   "cell_type": "code",
   "execution_count": null,
   "metadata": {},
   "outputs": [],
   "source": [
    "pclass = titanic3.groupby(['Pclass'])['Survived'].mean()\n",
    "pclass"
   ]
  },
  {
   "cell_type": "code",
   "execution_count": null,
   "metadata": {},
   "outputs": [],
   "source": [
    "fig, ax = plt.subplots()\n",
    "\n",
    "# plot\n",
    "ax.bar(['1st class', '2nd class', '3rd class'], pclass, color = 'red', alpha=0.5)\n",
    "# add label\n",
    "ax.set_ylabel('Survived')\n",
    "\n",
    "plt.show()"
   ]
  },
  {
   "cell_type": "markdown",
   "metadata": {},
   "source": [
    "    - The key finding is that the probability of survival is related to Pclass."
   ]
  },
  {
   "cell_type": "code",
   "execution_count": null,
   "metadata": {},
   "outputs": [],
   "source": []
  },
  {
   "cell_type": "code",
   "execution_count": null,
   "metadata": {},
   "outputs": [],
   "source": []
  },
  {
   "cell_type": "code",
   "execution_count": null,
   "metadata": {},
   "outputs": [],
   "source": []
  }
 ],
 "metadata": {
  "kernelspec": {
   "display_name": "Python 3 (ipykernel)",
   "language": "python",
   "name": "python3"
  },
  "language_info": {
   "codemirror_mode": {
    "name": "ipython",
    "version": 3
   },
   "file_extension": ".py",
   "mimetype": "text/x-python",
   "name": "python",
   "nbconvert_exporter": "python",
   "pygments_lexer": "ipython3",
   "version": "3.9.13"
  }
 },
 "nbformat": 4,
 "nbformat_minor": 4
}
