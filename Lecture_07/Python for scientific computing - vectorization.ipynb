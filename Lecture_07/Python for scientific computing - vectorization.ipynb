{
 "cells": [
  {
   "cell_type": "markdown",
   "id": "8adf3fb8",
   "metadata": {},
   "source": [
    "# Python for scientific computing"
   ]
  },
  {
   "cell_type": "markdown",
   "id": "7b332ee5",
   "metadata": {},
   "source": [
    "Python is extremely popular for scientific computing, due to such factors as\n",
    "- the accessible and flexible nature of the language itself,\n",
    "- the huge range of high quality scientific libraries now available,\n",
    "- the fact that the language and libraries are open source,\n",
    "- the popular Anaconda Python distribution (with Jupyter and Spyder), which simplifies installation and management of those libraries, and\n",
    "- the recent surge of interest in using Python for machine learning and artificial intelligence."
   ]
  },
  {
   "cell_type": "markdown",
   "id": "36dc37c5",
   "metadata": {},
   "source": [
    "## Python libraries (modules)"
   ]
  },
  {
   "cell_type": "markdown",
   "id": "70db70fc",
   "metadata": {},
   "source": [
    "In terms of popularity, the big four in the world of scientific Python libraries are\n",
    "- Pandas (data handling)\n",
    "- NumPy (calculations - and a basic *array* data type (think of vectors and matrices))\n",
    "- SciPy (calculations - and builds on NumPy by adding the kinds of numerical methods that are routinely used in science (interpolation, optimization, root finding, etc.))\n",
    "- Matplotlib (plotting - with a focus on plotting data stored in NumPy arrays)"
   ]
  },
  {
   "cell_type": "markdown",
   "id": "87785d79",
   "metadata": {},
   "source": [
    "Pure python is easy to write but not very fast because it has so many checks and balances. Python has to check the type of each variable:"
   ]
  },
  {
   "cell_type": "code",
   "execution_count": null,
   "id": "3df49952",
   "metadata": {},
   "outputs": [],
   "source": [
    "# integers\n",
    "a, b = 10, 10 \n",
    "a + b"
   ]
  },
  {
   "cell_type": "code",
   "execution_count": null,
   "id": "072f81d4",
   "metadata": {},
   "outputs": [],
   "source": [
    "# strings\n",
    "a, b = 'foo', 'bar' \n",
    "a + b"
   ]
  },
  {
   "cell_type": "code",
   "execution_count": null,
   "id": "69d91818",
   "metadata": {},
   "outputs": [],
   "source": [
    "# lists\n",
    "a, b = ['foo'], ['bar'] \n",
    "a + b"
   ]
  },
  {
   "cell_type": "markdown",
   "id": "db74f737",
   "metadata": {},
   "source": [
    "To perform calculations fast, we need to import functions from the libraries above which have been **vectorized**. These functions use vectors and matrices which are stored in a fast structure in memory."
   ]
  },
  {
   "cell_type": "code",
   "execution_count": null,
   "id": "5170e00b",
   "metadata": {},
   "outputs": [],
   "source": [
    "import random\n",
    "import numpy as np"
   ]
  },
  {
   "cell_type": "code",
   "execution_count": null,
   "id": "f3454854",
   "metadata": {},
   "outputs": [],
   "source": [
    "n = 1_000_000 # this is the same as writing\n",
    "n = 1000000"
   ]
  },
  {
   "cell_type": "code",
   "execution_count": null,
   "id": "27e4fb35",
   "metadata": {},
   "outputs": [],
   "source": [
    "# to measure time elapsed:\n",
    "n = 1_000_000\n",
    "\n",
    "import time\n",
    "start_time = time.time()\n",
    "\n",
    "y = 0 # Will accumulate and store sum\n",
    "for i in range(n):\n",
    "    x = random.uniform(0, 1)\n",
    "    y += x**2\n",
    "\n",
    "\n",
    "print(f'Runtime: {time.time() - start_time:.4f} seconds')"
   ]
  },
  {
   "cell_type": "markdown",
   "id": "e369d684",
   "metadata": {},
   "source": [
    "In Jupyter, we can use something called a *line magic* to get how long it takes to execute the code in a cell. But it has to be the first string in the cell:\n",
    "\n",
    "%%time\n",
    "\n"
   ]
  },
  {
   "cell_type": "markdown",
   "id": "fe983a4f",
   "metadata": {},
   "source": [
    "Vectorization is much faster than for-loops and while -loops:"
   ]
  },
  {
   "cell_type": "markdown",
   "id": "8e810f34",
   "metadata": {},
   "source": [
    "Create 1 million random numbers and their square with a for-loop:"
   ]
  },
  {
   "cell_type": "code",
   "execution_count": null,
   "id": "7e2a007d",
   "metadata": {},
   "outputs": [],
   "source": [
    "%%time\n",
    "# base Python\n",
    "\n",
    "y = 0 # Will accumulate and store sum\n",
    "for i in range(n):\n",
    "    x = random.uniform(0, 1)\n",
    "    y += x**2"
   ]
  },
  {
   "cell_type": "markdown",
   "id": "fa2ce22d",
   "metadata": {},
   "source": [
    "Create 1 million random numbers and their square with vector multiplication:"
   ]
  },
  {
   "cell_type": "code",
   "execution_count": null,
   "id": "f73bb3ec",
   "metadata": {},
   "outputs": [],
   "source": [
    "%%time\n",
    "# vectorized functions from numpy (np)\n",
    "\n",
    "x = np.random.uniform(0, 1, n)\n",
    "y = np.sum(x**2)"
   ]
  },
  {
   "cell_type": "code",
   "execution_count": null,
   "id": "786e47a4",
   "metadata": {},
   "outputs": [],
   "source": [
    "def f(x, y):\n",
    "    return np.cos(x**2 + y**2) / (1 + x**2 + y**2)"
   ]
  },
  {
   "cell_type": "markdown",
   "id": "a5ef0cfe",
   "metadata": {},
   "source": [
    "Another example of how vectorization is much faster than loops:"
   ]
  },
  {
   "cell_type": "code",
   "execution_count": null,
   "id": "d31982c9",
   "metadata": {},
   "outputs": [],
   "source": [
    "%%time\n",
    "\n",
    "# base Python version\n",
    "grid = np.linspace(-3, 3, 1000)\n",
    "m = -np.inf\n",
    "for x in grid:\n",
    "    for y in grid:\n",
    "        z = f(x, y)\n",
    "        if z > m:\n",
    "            m = z"
   ]
  },
  {
   "cell_type": "code",
   "execution_count": null,
   "id": "e1cd5936",
   "metadata": {},
   "outputs": [],
   "source": [
    "%%time\n",
    "# vectorized version\n",
    "x, y = np.meshgrid(grid, grid)\n",
    "np.max(f(x, y))"
   ]
  },
  {
   "cell_type": "markdown",
   "id": "d989fc22",
   "metadata": {},
   "source": [
    "This is some realizations of the function f(x,y) that we have defined:"
   ]
  },
  {
   "cell_type": "code",
   "execution_count": null,
   "id": "58831338",
   "metadata": {},
   "outputs": [],
   "source": [
    "import matplotlib.pyplot as plt\n",
    "%matplotlib inline\n",
    "from mpl_toolkits.mplot3d.axes3d import Axes3D\n",
    "from matplotlib import cm\n",
    "\n",
    "xgrid = np.linspace(-3, 3, 50)\n",
    "ygrid = xgrid\n",
    "x, y = np.meshgrid(xgrid, ygrid)\n",
    "\n",
    "fig = plt.figure(figsize=(8, 6))\n",
    "ax = fig.add_subplot(111, projection='3d')\n",
    "ax.plot_surface(x,\n",
    "                y,\n",
    "                f(x, y),\n",
    "                rstride=2,\n",
    "                cstride=2,\n",
    "                cmap=cm.jet,\n",
    "                alpha=0.7,\n",
    "                linewidth=0.25) \n",
    "ax.set_zlim(-0.5, 1.0)\n",
    "ax.set_xlabel('$x$', fontsize=14)\n",
    "ax.set_ylabel('$y$', fontsize=14)\n",
    "plt.show()"
   ]
  },
  {
   "cell_type": "code",
   "execution_count": null,
   "id": "c7320bd7",
   "metadata": {},
   "outputs": [],
   "source": []
  }
 ],
 "metadata": {
  "kernelspec": {
   "display_name": "Python 3 (ipykernel)",
   "language": "python",
   "name": "python3"
  },
  "language_info": {
   "codemirror_mode": {
    "name": "ipython",
    "version": 3
   },
   "file_extension": ".py",
   "mimetype": "text/x-python",
   "name": "python",
   "nbconvert_exporter": "python",
   "pygments_lexer": "ipython3",
   "version": "3.9.13"
  }
 },
 "nbformat": 4,
 "nbformat_minor": 5
}
