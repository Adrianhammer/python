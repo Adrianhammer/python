{
 "cells": [
  {
   "cell_type": "markdown",
   "metadata": {},
   "source": [
    "## Function input:\n",
    "\n",
    "In order to call a function, we must pass arguments to the required parameters of the function (parameter passing).\n",
    "\n"
   ]
  },
  {
   "cell_type": "code",
   "execution_count": 1,
   "metadata": {},
   "outputs": [],
   "source": [
    "def avg_list(number_list):\n",
    "\n",
    "    # calculate the sum of the numbers\n",
    "    list_sum = sum(number_list)\n",
    "\n",
    "    # calculate the lenght of the list\n",
    "    list_length = len(number_list)\n",
    "\n",
    "    # calculate the mean\n",
    "    mean = list_sum / list_length\n",
    "    \n",
    "    # return mean\n",
    "    return mean"
   ]
  },
  {
   "cell_type": "markdown",
   "metadata": {},
   "source": [
    "Notice that there are several valid ways to pass the arguments to the function:"
   ]
  },
  {
   "cell_type": "markdown",
   "metadata": {},
   "source": [
    "- The argument is passed directly to the parameter:"
   ]
  },
  {
   "cell_type": "code",
   "execution_count": 2,
   "metadata": {},
   "outputs": [
    {
     "name": "stdout",
     "output_type": "stream",
     "text": [
      "The mean is 2.00\n"
     ]
    }
   ],
   "source": [
    "mean = avg_list(number_list = [1, 2, 3])\n",
    "\n",
    "print(f'The mean is {mean:.2f}')"
   ]
  },
  {
   "cell_type": "markdown",
   "metadata": {},
   "source": [
    "- The argument is passed directly to the parameters without specifying the parameter name:"
   ]
  },
  {
   "cell_type": "code",
   "execution_count": 3,
   "metadata": {},
   "outputs": [
    {
     "name": "stdout",
     "output_type": "stream",
     "text": [
      "The mean is 2.00\n"
     ]
    }
   ],
   "source": [
    "mean = avg_list([1, 2, 3])\n",
    "\n",
    "print(f'The mean is {mean:.2f}')"
   ]
  },
  {
   "cell_type": "markdown",
   "metadata": {},
   "source": [
    "- The argument is passed as a variable name:"
   ]
  },
  {
   "cell_type": "code",
   "execution_count": 4,
   "metadata": {},
   "outputs": [
    {
     "name": "stdout",
     "output_type": "stream",
     "text": [
      "The mean is 3.00\n"
     ]
    }
   ],
   "source": [
    "input_list = [4, 2, 3] \n",
    "\n",
    "mean = avg_list(number_list = input_list) \n",
    "\n",
    "print(f'The mean is {mean:.2f}')"
   ]
  },
  {
   "cell_type": "markdown",
   "metadata": {},
   "source": [
    "- The argument is passed as a variable without specifying the parameter name:"
   ]
  },
  {
   "cell_type": "code",
   "execution_count": 5,
   "metadata": {},
   "outputs": [
    {
     "name": "stdout",
     "output_type": "stream",
     "text": [
      "The mean is 3.00\n"
     ]
    }
   ],
   "source": [
    "input_list = [1, 2, 6] \n",
    "mean = avg_list(input_list)\n",
    "\n",
    "print(f'The mean is {mean:.2f}')"
   ]
  },
  {
   "cell_type": "markdown",
   "metadata": {},
   "source": [
    "Notice that it is the **order** of the parameter in the function header that matters, and not the parameter names.\n",
    "This is called **positional arguments**"
   ]
  },
  {
   "cell_type": "code",
   "execution_count": 6,
   "metadata": {},
   "outputs": [],
   "source": [
    "def order(num1, num2):\n",
    "    if num1 > num2:\n",
    "        print('num1 is larger than num2')\n",
    "    else:\n",
    "        print('num1 is not larger than num2')"
   ]
  },
  {
   "cell_type": "code",
   "execution_count": 7,
   "metadata": {},
   "outputs": [
    {
     "name": "stdout",
     "output_type": "stream",
     "text": [
      "num1 is larger than num2\n"
     ]
    }
   ],
   "source": [
    "order(100,5)"
   ]
  },
  {
   "cell_type": "code",
   "execution_count": 8,
   "metadata": {},
   "outputs": [
    {
     "name": "stdout",
     "output_type": "stream",
     "text": [
      "num1 is not larger than num2\n"
     ]
    }
   ],
   "source": [
    "order(5,100)"
   ]
  },
  {
   "cell_type": "code",
   "execution_count": 9,
   "metadata": {},
   "outputs": [],
   "source": [
    "my_num1 = 100\n",
    "my_num2 = 5"
   ]
  },
  {
   "cell_type": "code",
   "execution_count": 10,
   "metadata": {},
   "outputs": [
    {
     "name": "stdout",
     "output_type": "stream",
     "text": [
      "num1 is larger than num2\n"
     ]
    }
   ],
   "source": [
    "order(my_num1, my_num2)"
   ]
  },
  {
   "cell_type": "code",
   "execution_count": 11,
   "metadata": {},
   "outputs": [
    {
     "name": "stdout",
     "output_type": "stream",
     "text": [
      "num1 is not larger than num2\n"
     ]
    }
   ],
   "source": [
    "order(my_num2, my_num1)"
   ]
  },
  {
   "cell_type": "markdown",
   "metadata": {},
   "source": [
    "When we use **keyword/named arguments**, it’s the name that matters, not the position.\n",
    "So we are certain which parameter gets which value."
   ]
  },
  {
   "cell_type": "code",
   "execution_count": 12,
   "metadata": {},
   "outputs": [
    {
     "name": "stdout",
     "output_type": "stream",
     "text": [
      "num1 is larger than num2\n"
     ]
    }
   ],
   "source": [
    "order(num1 = 100, num2 = 5)"
   ]
  },
  {
   "cell_type": "markdown",
   "metadata": {},
   "source": [
    "Or we can supply the keyword arguments as variables:"
   ]
  },
  {
   "cell_type": "code",
   "execution_count": 13,
   "metadata": {},
   "outputs": [
    {
     "name": "stdout",
     "output_type": "stream",
     "text": [
      "num1 is larger than num2\n"
     ]
    }
   ],
   "source": [
    "order(num1 = my_num1, num2 = my_num2)"
   ]
  },
  {
   "cell_type": "markdown",
   "metadata": {},
   "source": [
    "The order of keyword arguments does not matter:"
   ]
  },
  {
   "cell_type": "code",
   "execution_count": 14,
   "metadata": {},
   "outputs": [
    {
     "name": "stdout",
     "output_type": "stream",
     "text": [
      "num1 is larger than num2\n"
     ]
    }
   ],
   "source": [
    "order(num2 = my_num2, num1 = my_num1)"
   ]
  },
  {
   "cell_type": "markdown",
   "metadata": {},
   "source": [
    "Notice that functions can be supplied whith default values, in which case it is no longer strictly necessary to pass arguments to these parameters."
   ]
  },
  {
   "cell_type": "code",
   "execution_count": 15,
   "metadata": {},
   "outputs": [],
   "source": [
    "def exp(base, exponent = 2): # default: square base\n",
    "    result = base**exponent\n",
    "    return result"
   ]
  },
  {
   "cell_type": "markdown",
   "metadata": {},
   "source": [
    "Here, we get 8 to the power of 2 by default"
   ]
  },
  {
   "cell_type": "code",
   "execution_count": 16,
   "metadata": {},
   "outputs": [
    {
     "data": {
      "text/plain": [
       "64"
      ]
     },
     "execution_count": 16,
     "metadata": {},
     "output_type": "execute_result"
    }
   ],
   "source": [
    "exp(8)"
   ]
  },
  {
   "cell_type": "markdown",
   "metadata": {},
   "source": [
    "We can overwrite the default value by explicitly passing a new value to the parameter by use of keyword argument: "
   ]
  },
  {
   "cell_type": "markdown",
   "metadata": {},
   "source": [
    "8 to the power of 4:"
   ]
  },
  {
   "cell_type": "code",
   "execution_count": 17,
   "metadata": {},
   "outputs": [
    {
     "data": {
      "text/plain": [
       "4096"
      ]
     },
     "execution_count": 17,
     "metadata": {},
     "output_type": "execute_result"
    }
   ],
   "source": [
    "exp(base = 8, exponent = 4)"
   ]
  },
  {
   "cell_type": "markdown",
   "metadata": {},
   "source": [
    "Or, for short, with positional arguments:"
   ]
  },
  {
   "cell_type": "code",
   "execution_count": 18,
   "metadata": {},
   "outputs": [
    {
     "data": {
      "text/plain": [
       "4096"
      ]
     },
     "execution_count": 18,
     "metadata": {},
     "output_type": "execute_result"
    }
   ],
   "source": [
    "exp(8,4)"
   ]
  },
  {
   "cell_type": "markdown",
   "metadata": {},
   "source": [
    "## Function output:"
   ]
  },
  {
   "cell_type": "markdown",
   "metadata": {},
   "source": [
    "The return value of a function can be stored in a variable..."
   ]
  },
  {
   "cell_type": "code",
   "execution_count": 19,
   "metadata": {},
   "outputs": [
    {
     "data": {
      "text/plain": [
       "1000"
      ]
     },
     "execution_count": 19,
     "metadata": {},
     "output_type": "execute_result"
    }
   ],
   "source": [
    "res = exp(10, 3)\n",
    "res"
   ]
  },
  {
   "cell_type": "markdown",
   "metadata": {},
   "source": [
    "...or as an argument to another function call..."
   ]
  },
  {
   "cell_type": "code",
   "execution_count": 20,
   "metadata": {},
   "outputs": [
    {
     "data": {
      "text/plain": [
       "1044"
      ]
     },
     "execution_count": 20,
     "metadata": {},
     "output_type": "execute_result"
    }
   ],
   "source": [
    "sum([exp(10, 3), 2, 3, 4, 5, 6, 7, 8, 9])"
   ]
  },
  {
   "cell_type": "markdown",
   "metadata": {},
   "source": [
    "...or in an expression containing multiple function calls..."
   ]
  },
  {
   "cell_type": "code",
   "execution_count": 21,
   "metadata": {},
   "outputs": [
    {
     "data": {
      "text/plain": [
       "1.953125"
      ]
     },
     "execution_count": 21,
     "metadata": {},
     "output_type": "execute_result"
    }
   ],
   "source": [
    "exp(10, 3) / exp(8, 3)"
   ]
  },
  {
   "cell_type": "markdown",
   "metadata": {},
   "source": [
    "...or as a part of a conditional expression."
   ]
  },
  {
   "cell_type": "code",
   "execution_count": 22,
   "metadata": {},
   "outputs": [
    {
     "name": "stdout",
     "output_type": "stream",
     "text": [
      "Smaller than a thousand\n"
     ]
    }
   ],
   "source": [
    "base = 10\n",
    "exponent = 2\n",
    "\n",
    "if exp(base, exponent) >= 1000:\n",
    "    print('Equal or larger than a 1000')\n",
    "else:\n",
    "    print('Smaller than a thousand')"
   ]
  },
  {
   "cell_type": "markdown",
   "metadata": {},
   "source": [
    "Notice that a value-returning function can return either a *value*, *variable* or *calculation*."
   ]
  },
  {
   "cell_type": "code",
   "execution_count": 23,
   "metadata": {},
   "outputs": [],
   "source": [
    "def exp(base, exponent = 2):\n",
    "    result = base**exponent\n",
    "    return result"
   ]
  },
  {
   "cell_type": "code",
   "execution_count": 24,
   "metadata": {},
   "outputs": [
    {
     "data": {
      "text/plain": [
       "9"
      ]
     },
     "execution_count": 24,
     "metadata": {},
     "output_type": "execute_result"
    }
   ],
   "source": [
    "exp(3)"
   ]
  },
  {
   "cell_type": "code",
   "execution_count": 25,
   "metadata": {},
   "outputs": [],
   "source": [
    "def exp(base, exponent = 2):\n",
    "    return base**exponent"
   ]
  },
  {
   "cell_type": "code",
   "execution_count": 26,
   "metadata": {},
   "outputs": [
    {
     "data": {
      "text/plain": [
       "64"
      ]
     },
     "execution_count": 26,
     "metadata": {},
     "output_type": "execute_result"
    }
   ],
   "source": [
    "exp(8)"
   ]
  },
  {
   "cell_type": "code",
   "execution_count": 27,
   "metadata": {},
   "outputs": [
    {
     "data": {
      "text/plain": [
       "True"
      ]
     },
     "execution_count": 27,
     "metadata": {},
     "output_type": "execute_result"
    }
   ],
   "source": [
    "def checkAnswer(answer):\n",
    "    if answer == 'yes':\n",
    "        return True\n",
    "    else:\n",
    "        return False\n",
    "\n",
    "checkAnswer('yes')"
   ]
  },
  {
   "cell_type": "markdown",
   "metadata": {},
   "source": [
    "A value-returning function may return more than one value."
   ]
  },
  {
   "cell_type": "code",
   "execution_count": 28,
   "metadata": {},
   "outputs": [],
   "source": [
    "def minmax(num_list):\n",
    "    min_number = min(num_list)\n",
    "    max_number = max(num_list)\n",
    "    \n",
    "    return min_number, max_number"
   ]
  },
  {
   "cell_type": "markdown",
   "metadata": {},
   "source": [
    "Assigning only one variable name to the function output results in a tuple."
   ]
  },
  {
   "cell_type": "code",
   "execution_count": 29,
   "metadata": {},
   "outputs": [
    {
     "name": "stdout",
     "output_type": "stream",
     "text": [
      "(-4, 93)\n"
     ]
    }
   ],
   "source": [
    "int_list = [10, 4, 93, -4, 85, 27, 12, 18]\n",
    "\n",
    "res = minmax(int_list) \n",
    "\n",
    "print(res)"
   ]
  },
  {
   "cell_type": "markdown",
   "metadata": {},
   "source": [
    "The values in a tuple can be accessed by its index"
   ]
  },
  {
   "cell_type": "code",
   "execution_count": 30,
   "metadata": {},
   "outputs": [
    {
     "name": "stdout",
     "output_type": "stream",
     "text": [
      "-4\n",
      "93\n"
     ]
    }
   ],
   "source": [
    "print(res[0])\n",
    "print(res[1])"
   ]
  },
  {
   "cell_type": "markdown",
   "metadata": {},
   "source": [
    "Alternatively, we can assign a variable name to each return value in the function call."
   ]
  },
  {
   "cell_type": "code",
   "execution_count": 31,
   "metadata": {},
   "outputs": [
    {
     "name": "stdout",
     "output_type": "stream",
     "text": [
      "-4\n",
      "93\n"
     ]
    }
   ],
   "source": [
    "res1, res2 = minmax(int_list) \n",
    "print(res1)\n",
    "print(res2)"
   ]
  },
  {
   "cell_type": "markdown",
   "metadata": {},
   "source": [
    "## Immutable and mutable arguments"
   ]
  },
  {
   "cell_type": "markdown",
   "metadata": {},
   "source": [
    "Functions can sometimes end up changing the value of the arguments passed to the function call. However, this is only a potential issue when the arguments are of a *mutable* data type."
   ]
  },
  {
   "cell_type": "markdown",
   "metadata": {},
   "source": [
    "**Lists** are mutable. Thus, arguments of type list will be altered if passed to a function that alters its value. **Integers**, **floats**, **Booleans**, **strings**, and **tuples**, on the other hand, are immutable. Thus, arguments of these types cannot be altered as a result of any\n",
    "function call."
   ]
  },
  {
   "cell_type": "markdown",
   "metadata": {},
   "source": [
    "Example with an integer:"
   ]
  },
  {
   "cell_type": "code",
   "execution_count": 32,
   "metadata": {},
   "outputs": [
    {
     "data": {
      "text/plain": [
       "0"
      ]
     },
     "execution_count": 32,
     "metadata": {},
     "output_type": "execute_result"
    }
   ],
   "source": [
    "def change_value(n):\n",
    "    if n < 0:\n",
    "        n = 0\n",
    "    return n\n",
    "\n",
    "n = -10\n",
    "res = change_value(n)\n",
    "res"
   ]
  },
  {
   "cell_type": "markdown",
   "metadata": {},
   "source": [
    "The variable n has had no effect on the variable n outside the function:"
   ]
  },
  {
   "cell_type": "code",
   "execution_count": 33,
   "metadata": {},
   "outputs": [
    {
     "data": {
      "text/plain": [
       "-10"
      ]
     },
     "execution_count": 33,
     "metadata": {},
     "output_type": "execute_result"
    }
   ],
   "source": [
    "n"
   ]
  },
  {
   "cell_type": "markdown",
   "metadata": {},
   "source": [
    "But lists are mutable, so be careful when you use them:"
   ]
  },
  {
   "cell_type": "code",
   "execution_count": 34,
   "metadata": {},
   "outputs": [],
   "source": [
    "def change_list(num_list):\n",
    "    for k in range(len(num_list)):\n",
    "        if num_list[k] < 0:\n",
    "            num_list[k] = 0\n",
    "            \n",
    "    return num_list\n",
    "\n",
    "int_list = [5, -2, 9, 4, -6, 1]\n",
    "\n",
    "res = change_list(int_list)"
   ]
  },
  {
   "cell_type": "code",
   "execution_count": 35,
   "metadata": {},
   "outputs": [
    {
     "name": "stdout",
     "output_type": "stream",
     "text": [
      "[5, 0, 9, 4, 0, 1]\n",
      "[5, 0, 9, 4, 0, 1]\n"
     ]
    }
   ],
   "source": [
    "print(res)\n",
    "print(int_list)"
   ]
  },
  {
   "cell_type": "markdown",
   "metadata": {},
   "source": [
    "Can get around this by making a copy"
   ]
  },
  {
   "cell_type": "code",
   "execution_count": 36,
   "metadata": {},
   "outputs": [],
   "source": [
    "def change_list(num_list):\n",
    "    num_list = num_list.copy()\n",
    "    for k in range(len(num_list)):\n",
    "        if num_list[k] < 0:\n",
    "            num_list[k] = 0\n",
    "            \n",
    "    return num_list\n",
    "\n",
    "int_list = [5, -2, 9, 4, -6, 1]\n",
    "\n",
    "res = change_list(int_list)"
   ]
  },
  {
   "cell_type": "code",
   "execution_count": 37,
   "metadata": {},
   "outputs": [
    {
     "name": "stdout",
     "output_type": "stream",
     "text": [
      "[5, 0, 9, 4, 0, 1]\n",
      "[5, -2, 9, 4, -6, 1]\n"
     ]
    }
   ],
   "source": [
    "print(res)\n",
    "print(int_list)"
   ]
  },
  {
   "cell_type": "markdown",
   "metadata": {},
   "source": [
    "## Robust code"
   ]
  },
  {
   "cell_type": "markdown",
   "metadata": {},
   "source": [
    "It is important to implement functions that catches all scenarios. Failure to do so can result in errors later on in the program."
   ]
  },
  {
   "cell_type": "code",
   "execution_count": 38,
   "metadata": {},
   "outputs": [
    {
     "name": "stdout",
     "output_type": "stream",
     "text": [
      "0\n"
     ]
    }
   ],
   "source": [
    "def check_number(num1, num2):\n",
    "    if num1 > num2:\n",
    "        return 0\n",
    "    \n",
    "res = check_number(20, 10)\n",
    "print(res)"
   ]
  },
  {
   "cell_type": "code",
   "execution_count": 39,
   "metadata": {},
   "outputs": [
    {
     "name": "stdout",
     "output_type": "stream",
     "text": [
      "None\n"
     ]
    }
   ],
   "source": [
    "res = check_number(10, 20)\n",
    "print(res)"
   ]
  },
  {
   "cell_type": "code",
   "execution_count": 40,
   "metadata": {},
   "outputs": [
    {
     "name": "stdout",
     "output_type": "stream",
     "text": [
      "<class 'NoneType'>\n"
     ]
    }
   ],
   "source": [
    "print(type(res))"
   ]
  },
  {
   "cell_type": "code",
   "execution_count": 41,
   "metadata": {},
   "outputs": [
    {
     "ename": "TypeError",
     "evalue": "unsupported operand type(s) for *: 'NoneType' and 'int'",
     "output_type": "error",
     "traceback": [
      "\u001b[1;31m---------------------------------------------------------------------------\u001b[0m",
      "\u001b[1;31mTypeError\u001b[0m                                 Traceback (most recent call last)",
      "\u001b[1;32m~\\AppData\\Local\\Temp\\ipykernel_4700\\2202236571.py\u001b[0m in \u001b[0;36m<module>\u001b[1;34m\u001b[0m\n\u001b[1;32m----> 1\u001b[1;33m \u001b[0mres\u001b[0m \u001b[1;33m*\u001b[0m \u001b[1;36m100\u001b[0m\u001b[1;33m\u001b[0m\u001b[1;33m\u001b[0m\u001b[0m\n\u001b[0m",
      "\u001b[1;31mTypeError\u001b[0m: unsupported operand type(s) for *: 'NoneType' and 'int'"
     ]
    }
   ],
   "source": [
    "res * 100  "
   ]
  },
  {
   "cell_type": "code",
   "execution_count": 42,
   "metadata": {},
   "outputs": [
    {
     "name": "stdout",
     "output_type": "stream",
     "text": [
      "1\n"
     ]
    }
   ],
   "source": [
    "def checkNumber(num1, num2):\n",
    "    if num1 > num2:\n",
    "        return 0\n",
    "    else:\n",
    "        return 1\n",
    "    \n",
    "res = checkNumber(10, 20)\n",
    "print(res)"
   ]
  },
  {
   "cell_type": "markdown",
   "metadata": {},
   "source": [
    "## Variable scope"
   ]
  },
  {
   "cell_type": "markdown",
   "metadata": {},
   "source": [
    "Variables that are created within a function are known as **local variables**, and they are no accessible outside of the function."
   ]
  },
  {
   "cell_type": "code",
   "execution_count": 43,
   "metadata": {},
   "outputs": [
    {
     "data": {
      "text/plain": [
       "64"
      ]
     },
     "execution_count": 43,
     "metadata": {},
     "output_type": "execute_result"
    }
   ],
   "source": [
    "def exp(base):\n",
    "    mypower = 2\n",
    "    return base**mypower\n",
    "\n",
    "base = 8\n",
    "exp(base)"
   ]
  },
  {
   "cell_type": "markdown",
   "metadata": {},
   "source": [
    "If we try to access the variable mypower, which was defined in the function:"
   ]
  },
  {
   "cell_type": "code",
   "execution_count": 44,
   "metadata": {},
   "outputs": [
    {
     "ename": "NameError",
     "evalue": "name 'mypower' is not defined",
     "output_type": "error",
     "traceback": [
      "\u001b[1;31m---------------------------------------------------------------------------\u001b[0m",
      "\u001b[1;31mNameError\u001b[0m                                 Traceback (most recent call last)",
      "\u001b[1;32m~\\AppData\\Local\\Temp\\ipykernel_4700\\712669676.py\u001b[0m in \u001b[0;36m<module>\u001b[1;34m\u001b[0m\n\u001b[1;32m----> 1\u001b[1;33m \u001b[0mmypower\u001b[0m\u001b[1;33m\u001b[0m\u001b[1;33m\u001b[0m\u001b[0m\n\u001b[0m",
      "\u001b[1;31mNameError\u001b[0m: name 'mypower' is not defined"
     ]
    }
   ],
   "source": [
    "mypower"
   ]
  },
  {
   "cell_type": "markdown",
   "metadata": {},
   "source": [
    "Variables that are created outside of a function is known as a **global variable**, and they can be accessed by all functions. This may clutter the name space and is a source of errors when the variable is unintentionally "
   ]
  },
  {
   "cell_type": "code",
   "execution_count": 45,
   "metadata": {},
   "outputs": [
    {
     "data": {
      "text/plain": [
       "32"
      ]
     },
     "execution_count": 45,
     "metadata": {},
     "output_type": "execute_result"
    }
   ],
   "source": [
    "power = 5\n",
    "\n",
    "def exp(base):\n",
    "    y = base ** power\n",
    "    return y\n",
    "\n",
    "exp(2)"
   ]
  },
  {
   "cell_type": "markdown",
   "metadata": {},
   "source": [
    "Good practice to put your code execution in a main() function.\n",
    "Call other functions from the main() function.\n",
    "Define other functions before the main function."
   ]
  },
  {
   "cell_type": "code",
   "execution_count": 46,
   "metadata": {},
   "outputs": [
    {
     "name": "stdout",
     "output_type": "stream",
     "text": [
      "This is an example of good organization of code...\n",
      "Hello everybody!\n",
      "Goodbye everybody :-)\n"
     ]
    }
   ],
   "source": [
    "print('This is an example of good organization of code...')\n",
    "\n",
    "def print_greeting():\n",
    "    print('Hello everybody!')\n",
    "    \n",
    "def print_goodbye():\n",
    "    print('Goodbye everybody :-)')\n",
    "    \n",
    "def main():\n",
    "    print_greeting()\n",
    "    print_goodbye()\n",
    "    \n",
    "main()"
   ]
  },
  {
   "cell_type": "markdown",
   "metadata": {},
   "source": [
    "## Function documentation\n",
    "Functions must be properly documented. Add an explanation using tripple single/double quotation marks after the function header."
   ]
  },
  {
   "cell_type": "code",
   "execution_count": 47,
   "metadata": {},
   "outputs": [],
   "source": [
    "def exp(base, exponent):\n",
    "    \"\"\"\n",
    "    This function raises a number to the nth power.\n",
    "\n",
    "    Parameters\n",
    "    ----------\n",
    "    base : float or int\n",
    "        The number to be raised to the nth power.\n",
    "    exponent : float or int\n",
    "        The nth power.\n",
    "\n",
    "    Returns\n",
    "    -------\n",
    "    res : float or int\n",
    "        The result of the exponentiation.\n",
    "\n",
    "    \"\"\"\n",
    "    \n",
    "    res = base ** exponent\n",
    "    \n",
    "    return res"
   ]
  },
  {
   "cell_type": "code",
   "execution_count": 48,
   "metadata": {},
   "outputs": [
    {
     "data": {
      "text/plain": [
       "4"
      ]
     },
     "execution_count": 48,
     "metadata": {},
     "output_type": "execute_result"
    }
   ],
   "source": [
    "exp(2, 2)"
   ]
  },
  {
   "cell_type": "code",
   "execution_count": 49,
   "metadata": {},
   "outputs": [
    {
     "name": "stdout",
     "output_type": "stream",
     "text": [
      "Help on function exp in module __main__:\n",
      "\n",
      "exp(base, exponent)\n",
      "    This function raises a number to the nth power.\n",
      "    \n",
      "    Parameters\n",
      "    ----------\n",
      "    base : float or int\n",
      "        The number to be raised to the nth power.\n",
      "    exponent : float or int\n",
      "        The nth power.\n",
      "    \n",
      "    Returns\n",
      "    -------\n",
      "    res : float or int\n",
      "        The result of the exponentiation.\n",
      "\n"
     ]
    }
   ],
   "source": [
    "help(exp)"
   ]
  },
  {
   "cell_type": "code",
   "execution_count": null,
   "metadata": {},
   "outputs": [],
   "source": []
  }
 ],
 "metadata": {
  "kernelspec": {
   "display_name": "Python 3 (ipykernel)",
   "language": "python",
   "name": "python3"
  },
  "language_info": {
   "codemirror_mode": {
    "name": "ipython",
    "version": 3
   },
   "file_extension": ".py",
   "mimetype": "text/x-python",
   "name": "python",
   "nbconvert_exporter": "python",
   "pygments_lexer": "ipython3",
   "version": "3.9.13"
  }
 },
 "nbformat": 4,
 "nbformat_minor": 4
}
