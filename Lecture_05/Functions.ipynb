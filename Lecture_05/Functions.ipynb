{
 "cells": [
  {
   "cell_type": "markdown",
   "metadata": {},
   "source": [
    "# Chapter 5: Functions\n",
    "\n",
    "A function is a **named** group of instructions that accomplishes a **specific task**.\n",
    "\n",
    "Examples are Python's `built-in functions`:\n",
    "* <font color='blue'>len()</font>\n",
    "* <font color='blue'>type()</font>\n",
    "* <font color='blue'>sum()</font>"
   ]
  },
  {
   "cell_type": "markdown",
   "metadata": {},
   "source": [
    "## Functions:"
   ]
  },
  {
   "cell_type": "markdown",
   "metadata": {},
   "source": [
    "We organize our code in functions mainly for three reasons:\n",
    "\n",
    "1. Reduce the complexity of our programs by organizing it into logical sections.\n",
    "2. Make our code more reusable. It is almost always a bad idea to write the same code more than once.\n",
    "3. Defines variables only inside the function so you do not clutter the namespace."
   ]
  },
  {
   "cell_type": "markdown",
   "metadata": {},
   "source": [
    "Let us start with the simplest function there is:"
   ]
  },
  {
   "cell_type": "code",
   "execution_count": null,
   "metadata": {},
   "outputs": [],
   "source": [
    "def do_nothing():\n",
    "    pass"
   ]
  },
  {
   "cell_type": "markdown",
   "metadata": {},
   "source": [
    "As the name states, this function does nothing. However, it is a function because we have definded it with:\n",
    "- \"def\", which tells Python that we would like to create a function.\n",
    "- \"do_nothing\" which gives the function a name. This name is up to you, but it should reflect what the function actually does. For example the \"input\" function enables the user to input something. The print function prints something to screen, etc.\n",
    "- \"()\" which has to be there. Inside these parenthesis we will pass arguments (variables) which the function code can work with.\n",
    "- A \":\", which tells Python that now the function body comes.\n",
    "- \"pass\" is the function body. This is the code which executes everytime we call the function. We often write \"pass\" when we define functions because we would like to write the function body at a later time and there has to be a function body when you define a function."
   ]
  },
  {
   "cell_type": "markdown",
   "metadata": {},
   "source": [
    "Call the function like this to run the function body:"
   ]
  },
  {
   "cell_type": "code",
   "execution_count": null,
   "metadata": {},
   "outputs": [],
   "source": [
    "do_nothing()"
   ]
  },
  {
   "cell_type": "markdown",
   "metadata": {},
   "source": [
    "Our function is quite boring, because when we call it, nothing happens. So, let us make a function which prints something to screen:"
   ]
  },
  {
   "cell_type": "code",
   "execution_count": null,
   "metadata": {},
   "outputs": [],
   "source": [
    "def print_something():\n",
    "    print(\"This is printed to screen because I called the print_something function.\")"
   ]
  },
  {
   "cell_type": "markdown",
   "metadata": {},
   "source": [
    "When you define the function, it does not execute. To run the code in the function, you have to call it:"
   ]
  },
  {
   "cell_type": "code",
   "execution_count": null,
   "metadata": {},
   "outputs": [],
   "source": [
    "print_something()"
   ]
  },
  {
   "cell_type": "markdown",
   "metadata": {},
   "source": [
    "The function body can be several lines of code:"
   ]
  },
  {
   "cell_type": "code",
   "execution_count": null,
   "metadata": {},
   "outputs": [],
   "source": [
    "# function definition\n",
    "def print_several_lines():\n",
    "    print('This function')\n",
    "    print('has several')\n",
    "    print('lines of')\n",
    "    print('code')"
   ]
  },
  {
   "cell_type": "code",
   "execution_count": null,
   "metadata": {},
   "outputs": [],
   "source": [
    "# function call\n",
    "print_several_lines()  "
   ]
  },
  {
   "cell_type": "markdown",
   "metadata": {},
   "source": [
    "A function can also take in some parameters to work with, for example a number:"
   ]
  },
  {
   "cell_type": "code",
   "execution_count": null,
   "metadata": {},
   "outputs": [],
   "source": [
    "def print_number(number):\n",
    "    print(number)"
   ]
  },
  {
   "cell_type": "markdown",
   "metadata": {},
   "source": [
    "Now, our function expects a number to be passed as a parameter when the function is called:"
   ]
  },
  {
   "cell_type": "code",
   "execution_count": null,
   "metadata": {},
   "outputs": [],
   "source": [
    "print_number(3)"
   ]
  },
  {
   "cell_type": "markdown",
   "metadata": {},
   "source": [
    "This parameter can be passed in as a variable:"
   ]
  },
  {
   "cell_type": "code",
   "execution_count": null,
   "metadata": {},
   "outputs": [],
   "source": [
    "my_number = 4\n",
    "print_number(my_number)"
   ]
  },
  {
   "cell_type": "markdown",
   "metadata": {},
   "source": [
    "A function can return the value of a variable if we use the \"return\" command:"
   ]
  },
  {
   "cell_type": "code",
   "execution_count": null,
   "metadata": {},
   "outputs": [],
   "source": [
    "def return_number():\n",
    "    n = 46\n",
    "    return n"
   ]
  },
  {
   "cell_type": "code",
   "execution_count": null,
   "metadata": {},
   "outputs": [],
   "source": [
    "print(return_number())"
   ]
  },
  {
   "cell_type": "markdown",
   "metadata": {},
   "source": [
    "Whatever a function returns with the `return` command, can be placed in a new variable:"
   ]
  },
  {
   "cell_type": "code",
   "execution_count": null,
   "metadata": {},
   "outputs": [],
   "source": [
    "my_variable = return_number()\n",
    "print(my_variable)"
   ]
  },
  {
   "cell_type": "markdown",
   "metadata": {},
   "source": [
    "What if we have a list of numbers? We can write a program to calculate the average of a list of numbers without using our own function:"
   ]
  },
  {
   "cell_type": "code",
   "execution_count": null,
   "metadata": {},
   "outputs": [],
   "source": [
    "# create a list of numbers\n",
    "number_list = [10, 9, 4, 5, 9, 10, 0]\n",
    "\n",
    "# sum the numbers i list\n",
    "list_sum = sum(number_list)\n",
    "\n",
    "# lenght of the list\n",
    "list_length = len(number_list)\n",
    "\n",
    "# calculate the mean\n",
    "mean = list_sum / list_length\n",
    "\n",
    "print(f'The mean is {mean:.2f}')"
   ]
  },
  {
   "cell_type": "markdown",
   "metadata": {},
   "source": [
    "...or we can write a function that takes a list as a parameter and calculates the mean of the list of numbers."
   ]
  },
  {
   "cell_type": "code",
   "execution_count": null,
   "metadata": {},
   "outputs": [],
   "source": [
    "def avg_list(number_list):\n",
    "    # calculate the sum of the numbers\n",
    "    list_sum = sum(number_list)\n",
    "    # calculate the lenght of the list\n",
    "    list_length = len(number_list)\n",
    "    # calculate the mean\n",
    "    mean = list_sum / list_length\n",
    "    # return mean\n",
    "    return mean"
   ]
  },
  {
   "cell_type": "markdown",
   "metadata": {},
   "source": [
    "Remember that functions must be defined **before** we can use it. \n",
    "\n",
    "However, once it is defined, we can make as many function calls as we want."
   ]
  },
  {
   "cell_type": "code",
   "execution_count": null,
   "metadata": {},
   "outputs": [],
   "source": [
    "number_list = [10, 9, 4, 5, 9, 10, 0]\n",
    "m = avg_list(number_list)\n",
    "\n",
    "print(f'The mean is {m:.2f}')"
   ]
  },
  {
   "cell_type": "code",
   "execution_count": null,
   "metadata": {},
   "outputs": [],
   "source": [
    "number_list = [1, 2, 3, 4, 5, 6] # list with different numbers\n",
    "m = avg_list(number_list)\n",
    "\n",
    "print(f'The mean is {m:.2f}')"
   ]
  },
  {
   "cell_type": "code",
   "execution_count": null,
   "metadata": {},
   "outputs": [],
   "source": [
    "number_list = [11, 10, 5, 10, 11, 1, 1] # list with different numbers\n",
    "m = avg_list(number_list)\n",
    "\n",
    "print(f'The mean is {m:.2f}')"
   ]
  },
  {
   "cell_type": "code",
   "execution_count": null,
   "metadata": {},
   "outputs": [],
   "source": [
    "number_list = [1, 2, 3] # list with different numbers and length\n",
    "m = avg_list(number_list)\n",
    "\n",
    "print(f'The mean is {m:.2f}')"
   ]
  },
  {
   "cell_type": "markdown",
   "metadata": {},
   "source": [
    "Above was an example of a *value-returning* function. Alternatively, we can substitute the return statement with a `print` statement, in which case the function becomes a *non-value-returning* function."
   ]
  },
  {
   "cell_type": "code",
   "execution_count": null,
   "metadata": {},
   "outputs": [],
   "source": [
    "def avg_list_print(number_list):\n",
    "\n",
    "    # sum the list of numbers\n",
    "    list_sum = sum(number_list)\n",
    "\n",
    "    # lenght of the list\n",
    "    list_length = len(number_list)\n",
    "\n",
    "    # calculate the mean\n",
    "    mean = list_sum / list_length\n",
    "    \n",
    "    # print mean\n",
    "    print(f'The mean is {mean:.2f}')"
   ]
  },
  {
   "cell_type": "markdown",
   "metadata": {},
   "source": [
    "For non-value-returning functions, the function is called without assigning it to a variable:"
   ]
  },
  {
   "cell_type": "code",
   "execution_count": null,
   "metadata": {},
   "outputs": [],
   "source": [
    "number_list = [1, 2, 3]\n",
    "avg_list_print(number_list)"
   ]
  },
  {
   "cell_type": "markdown",
   "metadata": {},
   "source": [
    "Notice that you can assign a non-value returning function to a variable. However, the function will simply return the value `None`."
   ]
  },
  {
   "cell_type": "code",
   "execution_count": null,
   "metadata": {},
   "outputs": [],
   "source": [
    "my_mean = avg_list_print(number_list)"
   ]
  },
  {
   "cell_type": "code",
   "execution_count": null,
   "metadata": {},
   "outputs": [],
   "source": [
    "print(my_mean)"
   ]
  },
  {
   "cell_type": "code",
   "execution_count": null,
   "metadata": {},
   "outputs": [],
   "source": []
  }
 ],
 "metadata": {
  "kernelspec": {
   "display_name": "Python 3 (ipykernel)",
   "language": "python",
   "name": "python3"
  },
  "language_info": {
   "codemirror_mode": {
    "name": "ipython",
    "version": 3
   },
   "file_extension": ".py",
   "mimetype": "text/x-python",
   "name": "python",
   "nbconvert_exporter": "python",
   "pygments_lexer": "ipython3",
   "version": "3.9.13"
  }
 },
 "nbformat": 4,
 "nbformat_minor": 4
}
