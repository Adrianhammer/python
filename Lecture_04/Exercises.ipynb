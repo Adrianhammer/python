{
 "cells": [
  {
   "cell_type": "markdown",
   "metadata": {},
   "source": [
    "<div class = \"alert alert-info\">\n",
    "<h2> Class exercise </h2>\n",
    "<p> The list called <code>blimE2018</code> contains the song lyrics to the 2018 blimE-song (Link to song: https://www.youtube.com/watch?v=Qt5wpfRILWU). \n",
    "    \n",
    "1. Count the *number of times each word* occurs in the song. Hint:\n",
    "    - Create an empty dictionary called <code>word_dict</code>.\n",
    "    - Use a for loop to count each occurrence of a word and store the results in the dictionary.\n",
    "    \n",
    "    \n",
    "2. Count the *number of unique words* in the song using the dictionary <code>word_dict</code>.\n",
    "    \n",
    "    \n",
    "3. Count the *number of unique words* in the song using a set called <code>word_set</code>.\n",
    "  \n",
    "\n",
    "\n",
    "    \n",
    "</div>"
   ]
  },
  {
   "cell_type": "code",
   "execution_count": null,
   "metadata": {},
   "outputs": [],
   "source": [
    "# List with song lyrics\n",
    "blimE2018 = ['dag', 'etter', 'dag', 'var', 'jeg', 'fanget', 'i', 'sorg', 'og', 'i', 'ensomhet',\n",
    "'men', 'styrken', 'du', 'ga', 'meg', 'den', 'løftet', 'meg', 'opp', 'når', 'jeg', 'trengte', 'det',\n",
    "'først', 'var', 'jeg', 'en', 'også', 'ble', 'vi', 'til', 'to', 'vi',\n",
    "'kan', 'bli', 'tre', 'om', 'vi', 'bygger', 'en', 'bro', 'BlimE', 'BlimE',\n",
    "'og', 'sammen', 'vil', 'vi', 'vandre', 'med', 'målet', 'å',\n",
    "'forandre', 'vi', 'setter', 'en', 'strek', 'over', 'fordom', 'og', 'hat',\n",
    "'for', 'nå', 'som', 'vi', 'er', 'flere', 'så', 'kan', 'vi',\n",
    "'inspirere', 'og', 'vise', 'en', 'verden', 'som', 'spiller', 'på', 'lag',\n",
    "'så', 'vit', 'at', 'vi', 'står', 'midt', 'inni', 'flammen', 'den', 'tar', 'aldri', 'fyr',\n",
    "'vi', 'har', 'kraft', 'slik', 'at', 'håpet', 'kan', 'tennes', 'på', 'ny',\n",
    "'vi', 'gjør', 'at', 'hat', 'til', 'kjærlighet', 'mørke', 'til', 'lys',\n",
    "'BlimE', 'BlimE', 'BlimE', 'BlimE',\n",
    "'stadig', 'så', 'undervurderer', 'vi', 'kraften', 'vi', 'har', 'i', 'oss',\n",
    "'føler', 'oss', 'redde', 'og', 'små', 'når', 'vi', 'burde', 'stå', 'på', 'og', 'slåss',\n",
    "'men', 'med', 'din', 'og', 'venniner', 'har', 'vi', 'bue', 'og',\n",
    "'pil', 'feller', 'det', 'vonde', 'med', 'varm', 'og', 'smil',\n",
    "'BlimE', 'BlimE',\n",
    "'og', 'sammen', 'vil', 'vi', 'vandre', 'med', 'målet', 'og',\n",
    "'forandre', 'vi', 'setter', 'en']\n"
   ]
  },
  {
   "cell_type": "markdown",
   "metadata": {},
   "source": [
    "### Solution 1"
   ]
  },
  {
   "cell_type": "code",
   "execution_count": null,
   "metadata": {},
   "outputs": [],
   "source": [
    "# create empty dict\n",
    "word_dict = {}\n",
    "\n",
    "# loop over each word in list\n",
    "for word in blimE2018:\n",
    "    \n",
    "    # if the key exist (word is in dict), increment the value with one\n",
    "    if word in word_dict:\n",
    "        word_dict[word] = word_dict[word] + 1\n",
    "    \n",
    "    # else, add the key (word) to the dict and assign it the value 1\n",
    "    else:\n",
    "        word_dict[word] = 1\n",
    "        \n",
    "for pair in word_dict.items():\n",
    "        print(pair)"
   ]
  },
  {
   "cell_type": "markdown",
   "metadata": {},
   "source": [
    "### Solution 2"
   ]
  },
  {
   "cell_type": "code",
   "execution_count": null,
   "metadata": {},
   "outputs": [],
   "source": [
    "# calculate the length of the dictionary\n",
    "unique_word = len(word_dict)\n",
    "    \n",
    "# display result\n",
    "print(f'The number of unique words are {unique_word}.')"
   ]
  },
  {
   "cell_type": "markdown",
   "metadata": {},
   "source": [
    "### Solution 3"
   ]
  },
  {
   "cell_type": "code",
   "execution_count": null,
   "metadata": {},
   "outputs": [],
   "source": [
    "### Alternative 1: Use a for loop\n",
    "\n",
    "# create empty set\n",
    "word_set = set()\n",
    "\n",
    "# add each word to the set\n",
    "for word in blimE2018:\n",
    "    word_set.add(word)\n",
    "\n",
    "# calculate lenght of set\n",
    "unique_word = len(word_set)\n",
    "    \n",
    "# display result\n",
    "print(f'The number of unique words are {unique_word}.')\n",
    "    \n",
    "    \n",
    "    \n",
    "### Alternative 2: Create set directly from the list\n",
    "\n",
    "# create a set from the list\n",
    "word_set = set(blimE2018)\n",
    "\n",
    "# calculate length of set\n",
    "unique_word = len(word_set)\n",
    "    \n",
    "# display result\n",
    "print(f'The number of unique words are {unique_word}.')"
   ]
  },
  {
   "cell_type": "code",
   "execution_count": null,
   "metadata": {},
   "outputs": [],
   "source": []
  }
 ],
 "metadata": {
  "kernelspec": {
   "display_name": "Python 3 (ipykernel)",
   "language": "python",
   "name": "python3"
  },
  "language_info": {
   "codemirror_mode": {
    "name": "ipython",
    "version": 3
   },
   "file_extension": ".py",
   "mimetype": "text/x-python",
   "name": "python",
   "nbconvert_exporter": "python",
   "pygments_lexer": "ipython3",
   "version": "3.9.13"
  }
 },
 "nbformat": 4,
 "nbformat_minor": 4
}
