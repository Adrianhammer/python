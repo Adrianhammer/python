{
 "cells": [
  {
   "cell_type": "markdown",
   "metadata": {},
   "source": [
    "## Dictionaries:\n",
    "\n",
    "A type of data structure that consists of `key-value` pairs. "
   ]
  },
  {
   "cell_type": "markdown",
   "metadata": {},
   "source": [
    "Dictionaries are denoted by a comma-seperated list of key-value pairs placed inside curly brackets.\n",
    "\n",
    "They are used to get a value by refering to another value."
   ]
  },
  {
   "cell_type": "markdown",
   "metadata": {},
   "source": [
    "Think of an ordinary dictionary, for example from English to Spanish:"
   ]
  },
  {
   "cell_type": "code",
   "execution_count": 1,
   "metadata": {},
   "outputs": [],
   "source": [
    "spanish_words = {'monday':'lunes',\n",
    "                'tuesday':'martes'}"
   ]
  },
  {
   "cell_type": "markdown",
   "metadata": {},
   "source": [
    "Now you can get the Spanish word by refering to the dictionary (spanish_words), and the word in English:"
   ]
  },
  {
   "cell_type": "code",
   "execution_count": 2,
   "metadata": {},
   "outputs": [
    {
     "name": "stdout",
     "output_type": "stream",
     "text": [
      "lunes\n"
     ]
    }
   ],
   "source": [
    "print(spanish_words['monday'])"
   ]
  },
  {
   "cell_type": "markdown",
   "metadata": {},
   "source": [
    "The dictionary is a separate class."
   ]
  },
  {
   "cell_type": "code",
   "execution_count": null,
   "metadata": {},
   "outputs": [],
   "source": [
    "temps_dict = {'mon':30.2, \n",
    "              'tue':27.2, \n",
    "              'wed':31.8,\n",
    "              'thur':33.2, \n",
    "              'fri':35.6,\n",
    "              'sat':34.0,\n",
    "              'sun':28.8}\n",
    "\n",
    "print(type(temps_dict))"
   ]
  },
  {
   "cell_type": "code",
   "execution_count": null,
   "metadata": {},
   "outputs": [],
   "source": [
    "len(temps_dict)"
   ]
  },
  {
   "cell_type": "code",
   "execution_count": null,
   "metadata": {},
   "outputs": [],
   "source": [
    "print(temps_dict)"
   ]
  },
  {
   "cell_type": "markdown",
   "metadata": {},
   "source": [
    "Values in a dictionary are accessed by using the key associated with that value."
   ]
  },
  {
   "cell_type": "code",
   "execution_count": null,
   "metadata": {},
   "outputs": [],
   "source": [
    "print(temps_dict['mon'])"
   ]
  },
  {
   "cell_type": "markdown",
   "metadata": {},
   "source": [
    "Notice that the key-value pairs in a dictionary can be of any data type."
   ]
  },
  {
   "cell_type": "markdown",
   "metadata": {},
   "source": [
    "- String - string:"
   ]
  },
  {
   "cell_type": "code",
   "execution_count": null,
   "metadata": {},
   "outputs": [],
   "source": [
    "snow_dict = {'mon'  : 'snow', \n",
    "             'tue'  : 'no snow', \n",
    "             'wed'  : 'no snow',\n",
    "             'thur' : 'no snow', \n",
    "             'fri'  : 'no snow',\n",
    "             'sat'  : 'no snow',\n",
    "             'sun'  : 'snow'}\n",
    "\n",
    "print(snow_dict['sat'])"
   ]
  },
  {
   "cell_type": "markdown",
   "metadata": {},
   "source": [
    "- Numeric - string:"
   ]
  },
  {
   "cell_type": "code",
   "execution_count": null,
   "metadata": {},
   "outputs": [],
   "source": [
    "winners_dict = {1:'Maria', \n",
    "                2:'Peter', \n",
    "                3:'Ali'}\n",
    "\n",
    "print('First place goes to ' +winners_dict[1])"
   ]
  },
  {
   "cell_type": "markdown",
   "metadata": {},
   "source": [
    "- Numeric - list:"
   ]
  },
  {
   "cell_type": "code",
   "execution_count": null,
   "metadata": {},
   "outputs": [],
   "source": [
    "groups_dict = {1:['Maria', 'Peter', 'Ali'],\n",
    "               2:['Anne', 'Jenny', 'Mads'],\n",
    "               3:['Jon', 'Chang', 'Lars']}\n",
    "\n",
    "group_no = 2\n",
    "\n",
    "print(f'Members in group {group_no} : {groups_dict[group_no]}')"
   ]
  },
  {
   "cell_type": "code",
   "execution_count": null,
   "metadata": {},
   "outputs": [],
   "source": [
    "print(f'The third member in the group is {groups_dict[group_no][2]}')"
   ]
  },
  {
   "cell_type": "markdown",
   "metadata": {},
   "source": [
    "- Tuple - string:"
   ]
  },
  {
   "cell_type": "code",
   "execution_count": null,
   "metadata": {},
   "outputs": [],
   "source": [
    "date_dict = {('Feb', 8, 2021)  : 'monday',\n",
    "             ('Feb', 9, 2021)  : 'tuesday',\n",
    "             ('Feb', 10, 2021) : 'wednesday',\n",
    "             ('Feb', 11, 2021) : 'thursday',\n",
    "             ('Feb', 12, 2021) : 'friday'}\n",
    "\n",
    "print(date_dict[('Feb', 8, 2021)])"
   ]
  },
  {
   "cell_type": "markdown",
   "metadata": {},
   "source": [
    "Notice that dictionaries do not have an index."
   ]
  },
  {
   "cell_type": "code",
   "execution_count": null,
   "metadata": {},
   "outputs": [],
   "source": [
    "print(date_dict[0])"
   ]
  },
  {
   "cell_type": "markdown",
   "metadata": {},
   "source": [
    "PS: Although allowed, it is Python convention to never call dictionaries for `dict`."
   ]
  },
  {
   "cell_type": "code",
   "execution_count": null,
   "metadata": {},
   "outputs": [],
   "source": [
    "dict = {} # allowed, but should be avoided"
   ]
  },
  {
   "cell_type": "markdown",
   "metadata": {},
   "source": [
    "#### Dictionaries vs lists:\n",
    "\n",
    "Dictionaries are a good alternative to lists when we want to associate each item with an \"identifier\" (i.e. key)."
   ]
  },
  {
   "cell_type": "markdown",
   "metadata": {},
   "source": [
    "The greatest benefit of using dictionaries is that lookup is done by a hash-table. When you search through a `list`, then you must, in the worst case, look through all n entries to find what you look for. This is called O(n) complexity. When you look through a dictionary, a hash table can give you the position of what you look for immediately in one step. This is O(1) complexity."
   ]
  },
  {
   "cell_type": "markdown",
   "metadata": {},
   "source": [
    "Example: Store the daily mean temperatures for a week, and create a program that asks the user for a day and then display the temperature for that day."
   ]
  },
  {
   "cell_type": "markdown",
   "metadata": {},
   "source": [
    "In a list:"
   ]
  },
  {
   "cell_type": "code",
   "execution_count": null,
   "metadata": {},
   "outputs": [],
   "source": [
    "daily_temps = [28.8, 30.2, 27.2, 31.8, 33.2, 35.6, 34.0]\n",
    "print(daily_temps)"
   ]
  },
  {
   "cell_type": "code",
   "execution_count": null,
   "metadata": {},
   "outputs": [],
   "source": [
    "# ask the user for a day of the week\n",
    "day = input(\"Enter 'mon', 'tue', 'wed', 'thur', 'fri', 'sat', or 'sun': \")\n",
    "\n",
    "# determine temperature\n",
    "if day == 'mon':\n",
    "    temp = daily_temps[0]\n",
    "elif day == 'tue':\n",
    "    temp = daily_temps[1]\n",
    "elif day == 'wed':\n",
    "    temp = daily_temps[2]\n",
    "elif day == 'thur':\n",
    "    temp = daily_temps[3]\n",
    "elif day == 'fri':\n",
    "    temp = daily_temps[4]\n",
    "elif day == 'sat':\n",
    "    temp = daily_temps[5]\n",
    "elif day == 'sun':\n",
    "    temp = daily_temps[6]\n",
    "\n",
    "# display result\n",
    "print(f'\\nThe average temperature was {temp} degrees.')"
   ]
  },
  {
   "cell_type": "markdown",
   "metadata": {},
   "source": [
    "In a dictionary:"
   ]
  },
  {
   "cell_type": "code",
   "execution_count": null,
   "metadata": {},
   "outputs": [],
   "source": [
    "# store in a dictionary\n",
    "daily_temps = {'mon': 30.2, 'tue': 27.2, 'wed': 31.8, 'thur': 33.2, 'fri': 35.6, 'sat': 34.0, 'sun': 28.8}\n",
    "print(daily_temps)"
   ]
  },
  {
   "cell_type": "code",
   "execution_count": null,
   "metadata": {},
   "outputs": [],
   "source": [
    "# ask the user for a day of the week\n",
    "day = input(\"Enter 'mon', 'tue', 'wed', 'thur', 'fri', 'sat', or 'sun': \")\n",
    "\n",
    "# determine temperature\n",
    "temp = daily_temps[day]\n",
    "\n",
    "# Print the corresponding temperature\n",
    "print(f'The average temperature was {temp} degrees.\\n')"
   ]
  },
  {
   "cell_type": "markdown",
   "metadata": {},
   "source": [
    "### Common dictionary operations:"
   ]
  },
  {
   "cell_type": "markdown",
   "metadata": {},
   "source": [
    "Create an empty dictionary:"
   ]
  },
  {
   "cell_type": "code",
   "execution_count": null,
   "metadata": {},
   "outputs": [],
   "source": [
    "contacts = {}\n",
    "print(type(contacts))"
   ]
  },
  {
   "cell_type": "markdown",
   "metadata": {},
   "source": [
    "Add items one-by-one to dictionary:"
   ]
  },
  {
   "cell_type": "code",
   "execution_count": null,
   "metadata": {},
   "outputs": [],
   "source": [
    "contacts['Fred'] = 7235591\n",
    "contacts['Mary'] = 3841212\n",
    "contacts['Bob'] = 3841212\n",
    "contacts['Sarah'] = 2213278\n",
    "\n",
    "print(len(contacts)) # print the number of key-value pairs\n",
    "print(contacts)"
   ]
  },
  {
   "cell_type": "markdown",
   "metadata": {},
   "source": [
    "Alternatively, add items when dictionary is created:"
   ]
  },
  {
   "cell_type": "code",
   "execution_count": null,
   "metadata": {},
   "outputs": [],
   "source": [
    "contacts = {'Fred': 7235591, 'Mary': 3841212, 'Bob': 3841212, 'Sarah': 2213278}\n",
    "print(contacts)"
   ]
  },
  {
   "cell_type": "markdown",
   "metadata": {},
   "source": [
    "To determine whether a key is present, use the membership operator."
   ]
  },
  {
   "cell_type": "code",
   "execution_count": null,
   "metadata": {},
   "outputs": [],
   "source": [
    "name = 'John'\n",
    "name in contacts"
   ]
  },
  {
   "cell_type": "code",
   "execution_count": null,
   "metadata": {},
   "outputs": [],
   "source": [
    "name = 'Sarah'\n",
    "if name in contacts:\n",
    "    number = contacts[name]\n",
    "    print(f'Name: {name}\\nPhone number: {number}')\n",
    "else:\n",
    "    print(f'{name} is not in contacts.')"
   ]
  },
  {
   "cell_type": "markdown",
   "metadata": {},
   "source": [
    "Dictionaries are mutable. Values can be updated by assigning new values. Here, we add a new key-value pair:"
   ]
  },
  {
   "cell_type": "code",
   "execution_count": null,
   "metadata": {},
   "outputs": [],
   "source": [
    "# add contact\n",
    "contacts['John'] = 4578102\n",
    "print(contacts)"
   ]
  },
  {
   "cell_type": "markdown",
   "metadata": {},
   "source": [
    "Here, we change the value in a key-value pair:"
   ]
  },
  {
   "cell_type": "code",
   "execution_count": null,
   "metadata": {},
   "outputs": [],
   "source": [
    "# change contact\n",
    "contacts['John'] = 2228102\n",
    "print(contacts)"
   ]
  },
  {
   "cell_type": "markdown",
   "metadata": {},
   "source": [
    "The key and value can be provided by variables:"
   ]
  },
  {
   "cell_type": "code",
   "execution_count": null,
   "metadata": {},
   "outputs": [],
   "source": [
    "new_key = 'Bukayo'\n",
    "new_value = 4922913\n",
    "contacts[new_key] = new_value\n",
    "print(contacts)"
   ]
  },
  {
   "cell_type": "markdown",
   "metadata": {},
   "source": [
    "Items can be removed using the pop() function."
   ]
  },
  {
   "cell_type": "code",
   "execution_count": null,
   "metadata": {},
   "outputs": [],
   "source": [
    "contacts.pop('Fred')\n",
    "\n",
    "print(contacts)"
   ]
  },
  {
   "cell_type": "markdown",
   "metadata": {},
   "source": [
    "Notice that if key not present, Python will throw an error."
   ]
  },
  {
   "cell_type": "code",
   "execution_count": null,
   "metadata": {},
   "outputs": [],
   "source": [
    "contacts.pop('Sue')"
   ]
  },
  {
   "cell_type": "markdown",
   "metadata": {},
   "source": [
    "It is therefore often a good idea to use the membership operator to avoide errors."
   ]
  },
  {
   "cell_type": "code",
   "execution_count": null,
   "metadata": {},
   "outputs": [],
   "source": [
    "if 'Mary' in contacts:\n",
    "    contacts.pop('Mary')\n",
    "print(contacts)"
   ]
  },
  {
   "cell_type": "markdown",
   "metadata": {},
   "source": [
    "We can iterate over the items in a dictionary using a for loop."
   ]
  },
  {
   "cell_type": "code",
   "execution_count": null,
   "metadata": {},
   "outputs": [],
   "source": [
    "print('My Contacts:')\n",
    "for key in contacts:\n",
    "    print(key)"
   ]
  },
  {
   "cell_type": "code",
   "execution_count": null,
   "metadata": {},
   "outputs": [],
   "source": [
    "print('My Contacts:')\n",
    "for key, value in contacts.items():\n",
    "    print(key)\n",
    "    print(value)\n",
    "    print('.....')"
   ]
  },
  {
   "cell_type": "markdown",
   "metadata": {},
   "source": [
    "The keys can be printed in alphabetical order using the sorted() function."
   ]
  },
  {
   "cell_type": "code",
   "execution_count": null,
   "metadata": {},
   "outputs": [],
   "source": [
    "contacts = {'Fred': 7235591, 'Mary': 3841212, 'Bob': 3841212, 'Sarah': 2213278}\n",
    "for key in sorted(contacts):\n",
    "\n",
    "    print(f'{key:10}: {contacts[key]}')"
   ]
  },
  {
   "cell_type": "code",
   "execution_count": null,
   "metadata": {},
   "outputs": [],
   "source": [
    "for sorted in sorted(contacts.values()):\n",
    "    print(sorted)    "
   ]
  },
  {
   "cell_type": "markdown",
   "metadata": {},
   "source": [
    "Alternatively, we can use the `items` function that returns a sequence of tuples that contain the keys and values of all items in the dictionary."
   ]
  },
  {
   "cell_type": "code",
   "execution_count": null,
   "metadata": {},
   "outputs": [],
   "source": [
    "print(contacts.items())"
   ]
  },
  {
   "cell_type": "code",
   "execution_count": null,
   "metadata": {},
   "outputs": [],
   "source": [
    "for pair in contacts.items():\n",
    "    print(pair)\n",
    "    #print(pair[0], pair[1])"
   ]
  },
  {
   "cell_type": "code",
   "execution_count": null,
   "metadata": {},
   "outputs": [],
   "source": []
  }
 ],
 "metadata": {
  "kernelspec": {
   "display_name": "base",
   "language": "python",
   "name": "python3"
  },
  "language_info": {
   "codemirror_mode": {
    "name": "ipython",
    "version": 3
   },
   "file_extension": ".py",
   "mimetype": "text/x-python",
   "name": "python",
   "nbconvert_exporter": "python",
   "pygments_lexer": "ipython3",
   "version": "3.12.7"
  }
 },
 "nbformat": 4,
 "nbformat_minor": 4
}
