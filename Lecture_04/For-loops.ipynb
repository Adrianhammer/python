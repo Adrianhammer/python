{
 "cells": [
  {
   "cell_type": "markdown",
   "metadata": {},
   "source": [
    "## Iterating over sequences:"
   ]
  },
  {
   "cell_type": "markdown",
   "metadata": {},
   "source": [
    "### For-loops:\n",
    "\n",
    "For-loops use `for-statements` to iterate once for each element in a sequence."
   ]
  },
  {
   "cell_type": "code",
   "execution_count": 1,
   "metadata": {},
   "outputs": [
    {
     "name": "stdout",
     "output_type": "stream",
     "text": [
      "3\n",
      "6\n",
      "8\n",
      "2\n"
     ]
    }
   ],
   "source": [
    "# iterate over a list of integers\n",
    "for number in [3, 6, 8, 2]:\n",
    "    print(number)"
   ]
  },
  {
   "cell_type": "markdown",
   "metadata": {},
   "source": [
    "Can iterate over the elements of a list:"
   ]
  },
  {
   "cell_type": "code",
   "execution_count": 2,
   "metadata": {},
   "outputs": [
    {
     "name": "stdout",
     "output_type": "stream",
     "text": [
      "3\n",
      "6\n",
      "8\n",
      "2\n"
     ]
    }
   ],
   "source": [
    "numbers = [3, 6, 8, 2]\n",
    "\n",
    "for number in numbers:\n",
    "    print(number)"
   ]
  },
  {
   "cell_type": "code",
   "execution_count": null,
   "metadata": {},
   "outputs": [],
   "source": [
    "# iterate over list of strings\n",
    "fruits = ['banana', 'peach', 'apple']\n",
    "for fruit in fruits:\n",
    "    print(fruit)"
   ]
  },
  {
   "cell_type": "code",
   "execution_count": 3,
   "metadata": {},
   "outputs": [
    {
     "name": "stdout",
     "output_type": "stream",
     "text": [
      "a\n",
      "p\n",
      "p\n",
      "l\n",
      "e\n"
     ]
    }
   ],
   "source": [
    "# iterate over characters in a string\n",
    "for k in 'apple':\n",
    "    print(k)"
   ]
  },
  {
   "cell_type": "markdown",
   "metadata": {},
   "source": [
    "If we do not want the print function to add a lineshift at the end of each print:"
   ]
  },
  {
   "cell_type": "code",
   "execution_count": 4,
   "metadata": {},
   "outputs": [
    {
     "name": "stdout",
     "output_type": "stream",
     "text": [
      "apple"
     ]
    }
   ],
   "source": [
    "for k in 'apple':\n",
    "    print(k, end='')"
   ]
  },
  {
   "cell_type": "markdown",
   "metadata": {},
   "source": [
    "We can use the built-in `range` function to create the sequence that we are iterating over."
   ]
  },
  {
   "cell_type": "markdown",
   "metadata": {},
   "source": [
    "Notice, that the range function does not actually create a sequence. Instead, it is a generator function that produces the item in the sequence only when the item is reached (saves memory)."
   ]
  },
  {
   "cell_type": "code",
   "execution_count": null,
   "metadata": {},
   "outputs": [],
   "source": [
    "print(range(0, 11))"
   ]
  },
  {
   "cell_type": "code",
   "execution_count": null,
   "metadata": {},
   "outputs": [],
   "source": [
    "for i in range(0, 11):\n",
    "    print(i)"
   ]
  },
  {
   "cell_type": "markdown",
   "metadata": {},
   "source": [
    "By default, the range function starts at 0 and does not include the upper value in the range function."
   ]
  },
  {
   "cell_type": "markdown",
   "metadata": {},
   "source": [
    "By default, the range function generates a sequence of consecutive integers. However, a step value can be provided."
   ]
  },
  {
   "cell_type": "code",
   "execution_count": null,
   "metadata": {},
   "outputs": [],
   "source": [
    "for i in range(0, 11, 2):\n",
    "    print(i)"
   ]
  },
  {
   "cell_type": "markdown",
   "metadata": {},
   "source": [
    "The range function can also be used to create decreasing sequence of integers. This is especially useful if you iterate through a list and delete instances."
   ]
  },
  {
   "cell_type": "code",
   "execution_count": 5,
   "metadata": {},
   "outputs": [
    {
     "name": "stdout",
     "output_type": "stream",
     "text": [
      "10\n",
      "9\n",
      "8\n",
      "7\n",
      "6\n",
      "5\n",
      "4\n",
      "3\n",
      "2\n",
      "1\n",
      "0\n"
     ]
    }
   ],
   "source": [
    "for i in range(10, -1, -1):\n",
    "    print(i)"
   ]
  },
  {
   "cell_type": "markdown",
   "metadata": {},
   "source": [
    "The range function is helpful in for-loops."
   ]
  },
  {
   "cell_type": "code",
   "execution_count": 6,
   "metadata": {},
   "outputs": [
    {
     "name": "stdout",
     "output_type": "stream",
     "text": [
      "55\n"
     ]
    }
   ],
   "source": [
    "# Add up all integers from 1 to 10:\n",
    "\n",
    "# intialize the sum\n",
    "total_sum = 0\n",
    "\n",
    "# iterate over all k from 1 to 10\n",
    "for k in range(1, 11):\n",
    "    \n",
    "    # increment sum with k\n",
    "    total_sum = total_sum + k \n",
    "    \n",
    "print(total_sum)"
   ]
  },
  {
   "cell_type": "markdown",
   "metadata": {},
   "source": [
    "The range function is especially helpful when we wish to alter the items in a sequence."
   ]
  },
  {
   "cell_type": "code",
   "execution_count": null,
   "metadata": {},
   "outputs": [],
   "source": [
    "points = [55, 86, 79, 87, 62, 92, 85, 96, 75]"
   ]
  },
  {
   "cell_type": "code",
   "execution_count": null,
   "metadata": {},
   "outputs": [],
   "source": [
    "print(len(points))"
   ]
  },
  {
   "cell_type": "code",
   "execution_count": null,
   "metadata": {},
   "outputs": [],
   "source": [
    "# Use the range function to increment all items in sequence:\n",
    "\n",
    "for k in range(len(points)):\n",
    "    points[k] = points[k] + 1\n",
    "\n",
    "print(points)"
   ]
  },
  {
   "cell_type": "markdown",
   "metadata": {},
   "source": [
    "If we try to iterate through the list items directly while changing:"
   ]
  },
  {
   "cell_type": "code",
   "execution_count": null,
   "metadata": {},
   "outputs": [],
   "source": [
    "my_points = [55, 86, 79, 87, 62, 92, 85, 96, 75]\n",
    "\n",
    "for k in my_points:\n",
    "    my_points[k] = my_points[k] + 1\n",
    "\n",
    "print(my_points)"
   ]
  },
  {
   "cell_type": "markdown",
   "metadata": {},
   "source": [
    "Iterate through nested lists:"
   ]
  },
  {
   "cell_type": "code",
   "execution_count": null,
   "metadata": {},
   "outputs": [],
   "source": [
    "my_list = [[1,2,3],[4,5,6]]\n",
    "\n",
    "for i in my_list:\n",
    "    for j in i:\n",
    "        print(j)"
   ]
  },
  {
   "cell_type": "markdown",
   "metadata": {},
   "source": [
    "### While-loops:\n",
    "\n",
    "A while-loop is the appropiate control structure when we only wish to iterate over a sequence *until* a condition is met."
   ]
  },
  {
   "cell_type": "markdown",
   "metadata": {},
   "source": [
    "We can do this by combining while-loops with if-statements."
   ]
  },
  {
   "cell_type": "code",
   "execution_count": null,
   "metadata": {},
   "outputs": [],
   "source": [
    "# Iterate over a list of numbers until a certain number has been found:\n",
    "\n",
    "nums = [10, 20, 30, 40, 50, 60] \n",
    "item_to_find = 40\n",
    "\n",
    "# initialize counter and Boolean flag\n",
    "k = 0 \n",
    "found_item = False \n",
    "\n",
    "# iterate as long as we have not reached the end of the sequence and the item has not yet been found\n",
    "while k < len(nums) and found_item == False:\n",
    "    \n",
    "    # print the counter of iterations\n",
    "    print(k) \n",
    "    \n",
    "    # change Boolean flag to True if item is found\n",
    "    if nums[k] == item_to_find:\n",
    "        found_item = True \n",
    "        \n",
    "    # otherwise, increment counter variable with one\n",
    "    else:\n",
    "        k = k + 1 \n",
    "\n",
    "# print found is item was found\n",
    "if found_item:\n",
    "    print('\\nItem was found.')\n",
    "    \n",
    "# otherwise, print not found\n",
    "else:\n",
    "    print('\\nItem was not found.')"
   ]
  },
  {
   "cell_type": "markdown",
   "metadata": {},
   "source": [
    "### List comprehension:\n",
    "\n",
    "Offers a more \"efficient\" way of creating a new list based on items in old list (i.e. fewer lines of code)."
   ]
  },
  {
   "cell_type": "code",
   "execution_count": 8,
   "metadata": {},
   "outputs": [],
   "source": [
    "old_list = [1, 2, 3, 4]"
   ]
  },
  {
   "cell_type": "markdown",
   "metadata": {},
   "source": [
    "We can exponentiate all items in list using a traditional for-loop."
   ]
  },
  {
   "cell_type": "code",
   "execution_count": 9,
   "metadata": {},
   "outputs": [
    {
     "name": "stdout",
     "output_type": "stream",
     "text": [
      "[1, 4, 9, 16]\n"
     ]
    }
   ],
   "source": [
    "# create empty list\n",
    "new_list = [] \n",
    "\n",
    "# iterate over all items in list\n",
    "for k in old_list:\n",
    "    # append the new item to the empty list\n",
    "    new_list.append(k**2)\n",
    "\n",
    "print(new_list)"
   ]
  },
  {
   "cell_type": "markdown",
   "metadata": {},
   "source": [
    "Alternatively, we can place the for-loop directly inside the new list. This is list comprehension."
   ]
  },
  {
   "cell_type": "code",
   "execution_count": 10,
   "metadata": {},
   "outputs": [
    {
     "name": "stdout",
     "output_type": "stream",
     "text": [
      "[1, 4, 9, 16]\n"
     ]
    }
   ],
   "source": [
    "new_list = [k**2 for k in old_list]\n",
    "\n",
    "print(new_list)"
   ]
  },
  {
   "cell_type": "markdown",
   "metadata": {},
   "source": [
    "For-loop can be combined with if-conditions."
   ]
  },
  {
   "cell_type": "markdown",
   "metadata": {},
   "source": [
    "Now, exponentiate items in list only if item is larger than or equal to 3 using a for-loop."
   ]
  },
  {
   "cell_type": "code",
   "execution_count": null,
   "metadata": {},
   "outputs": [],
   "source": [
    "old_list = [1, 2, 3, 4]\n",
    "\n",
    "new_list = []\n",
    "\n",
    "for k in old_list:\n",
    "    if k >= 3:\n",
    "        new_k = k**2\n",
    "        new_list.append(new_k)\n",
    "        \n",
    "print(new_list)"
   ]
  },
  {
   "cell_type": "markdown",
   "metadata": {},
   "source": [
    "List comprehension can also be combined with conditions."
   ]
  },
  {
   "cell_type": "code",
   "execution_count": null,
   "metadata": {},
   "outputs": [],
   "source": [
    "old_list = [1, 2, 3, 4]\n",
    "\n",
    "new_list = [k**2 for k in old_list if k >= 3]\n",
    "\n",
    "print(new_list)"
   ]
  },
  {
   "cell_type": "code",
   "execution_count": null,
   "metadata": {},
   "outputs": [],
   "source": [
    "fruits = ['apple', 'banana', 'orange', 'pear', 'pineapple']\n",
    "\n",
    "new_fruits = [x for x in fruits if 'p' in x]\n",
    "\n",
    "print(new_fruits)"
   ]
  },
  {
   "cell_type": "markdown",
   "metadata": {},
   "source": [
    "<div class = \"alert alert-info\">\n",
    "<h2> Class exercise </h2>\n",
    "<p> Three students have taken three tests each. Consider the nested list, class_grades, where each sub-list contains the test scores for each student:\n",
    "\n",
    "The results are stored in the list class_grades where the scores for each student is stored in a sub-list. The results on the first test were 85 for student 1, 78 for student 2, and 62 for student 3.\n",
    "    \n",
    "<p> class_grades = [[85,91,89], [78,81,86], [62,75,77]]\n",
    "    \n",
    "\n",
    "1. Calculate the average test score *on the first test* using a <code>while-loop</code>.\n",
    "    \n",
    "    \n",
    "2. Calculate the average test score *on the first test* using a <code>for-loop</code>.\n",
    "   \n",
    "    \n",
    "3. Calculate the average test score *for each student* using a <code>for-loop</code>. Store the results in a list called exam_avgs.\n",
    "\n",
    "    \n",
    "4. Calculate the average test score *for each student* using <code>list comprehension</code>. Store the results in a list called exam_avgs.\n",
    "    \n",
    "\n",
    "\n",
    "    \n",
    "</div>"
   ]
  },
  {
   "cell_type": "markdown",
   "metadata": {},
   "source": [
    "### Solution 1\n",
    "\n",
    "<details>\n",
    "    \n",
    "<summary> Click to expand!</summary>\n",
    "<p> \n",
    "\n",
    "class_grades = [[85,91,89], [78,81,86], [62,75,77]]\n",
    "# Class grades is here a list of lists. The main list contains three elements (lists which contain three elements (numbers)). Access an element by indexing the main list first and the sub-elements last like this: class_grades[0][1], to get 91.\n",
    "\n",
    "no_students = len(class_grades)\n",
    "\n",
    "# initialize the sum and count variable\n",
    "sum1 = 0\n",
    "k = 0\n",
    "\n",
    "# iterate as long as the counter is less or equal to the number of students\n",
    "while k < no_students:\n",
    "    # add the test score to the sum for each student\n",
    "    sum1 = sum1 + class_grades[k][0]\n",
    "    # increment the count variable \n",
    "    k = k + 1\n",
    "\n",
    "# calculate the average test score\n",
    "average_exam1 = sum1 / no_students\n",
    "\n",
    "print(f'The average test score on the first test was {average_exam1:.1f}')\n",
    "\n",
    "</p>\n",
    "</details> "
   ]
  },
  {
   "cell_type": "markdown",
   "metadata": {},
   "source": [
    "### Solution 2\n",
    "\n",
    "<details>\n",
    "    \n",
    "<summary> Click to expand!</summary>\n",
    "<p> \n",
    "\n",
    "class_grades = [[85,91,89], [78,81,86], [62,75,77]]\n",
    "\n",
    "no_students = len(class_grades)\n",
    "\n",
    "# initialize the sum\n",
    "sum1 = 0\n",
    "\n",
    "    \n",
    "# use the range function to iterate over each student\n",
    "for k in range(no_students):\n",
    "    # add the test score to the sum\n",
    "    sum1 = sum1 + class_grades[k][0]\n",
    "    \n",
    "# calculate the average test score\n",
    "average_exam1 = sum1 / no_students\n",
    "\n",
    "print(f'The average test score on the first test was {average_exam1:.1f}')\n",
    "\n",
    "</p>\n",
    "</details> "
   ]
  },
  {
   "cell_type": "markdown",
   "metadata": {},
   "source": [
    "### Solution 3\n",
    "\n",
    "<details>\n",
    "    \n",
    "<summary> Click to expand!</summary>\n",
    "<p> \n",
    "\n",
    "class_grades = [[85,91,89], [78,81,86], [62,75,77]]\n",
    "\n",
    "# create empty list to store result\n",
    "exam_avgs = []\n",
    "\n",
    "# iterate over each sub-list\n",
    "for sublist in class_grades:\n",
    "    # calculate the average score\n",
    "    avg_score = sum(sublist) / 3\n",
    "    # append average score to empty list\n",
    "    exam_avgs.append(avg_score)\n",
    "    \n",
    "print(f'The average test scores were {exam_avgs[0]:.1f}, {exam_avgs[1]:.1f}, and {exam_avgs[2]:.1f} for the three students.')\n",
    "\n",
    "</p>\n",
    "</details> "
   ]
  },
  {
   "cell_type": "markdown",
   "metadata": {},
   "source": [
    "### Solution 4\n",
    "\n",
    "<details>\n",
    "    \n",
    "<summary> Click to expand!</summary>\n",
    "<p> \n",
    "\n",
    "class_grades = [[85,91,89], [78,81,86], [62,75,77]]\n",
    "\n",
    "# place the for-loop directly inside the new list\n",
    "exam_avgs = [sum(sublist)/3 for sublist in class_grades]\n",
    "\n",
    "print(f'The average test scores were {exam_avgs[0]:.1f}, {exam_avgs[1]:.1f}, and {exam_avgs[2]:.1f} for the three students.')\n",
    "</p>\n",
    "</details> "
   ]
  },
  {
   "cell_type": "code",
   "execution_count": null,
   "metadata": {},
   "outputs": [],
   "source": []
  }
 ],
 "metadata": {
  "kernelspec": {
   "display_name": "base",
   "language": "python",
   "name": "python3"
  },
  "language_info": {
   "codemirror_mode": {
    "name": "ipython",
    "version": 3
   },
   "file_extension": ".py",
   "mimetype": "text/x-python",
   "name": "python",
   "nbconvert_exporter": "python",
   "pygments_lexer": "ipython3",
   "version": "3.12.7"
  }
 },
 "nbformat": 4,
 "nbformat_minor": 4
}
